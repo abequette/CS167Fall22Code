{
  "nbformat": 4,
  "nbformat_minor": 0,
  "metadata": {
    "colab": {
      "provenance": [],
      "collapsed_sections": [],
      "authorship_tag": "ABX9TyNFPh3uMAmiADVwoo5puOCY",
      "include_colab_link": true
    },
    "kernelspec": {
      "name": "python3",
      "display_name": "Python 3"
    },
    "language_info": {
      "name": "python"
    }
  },
  "cells": [
    {
      "cell_type": "markdown",
      "metadata": {
        "id": "view-in-github",
        "colab_type": "text"
      },
      "source": [
        "<a href=\"https://colab.research.google.com/github/urness/CS167Fall22Code/blob/main/Day02.ipynb\" target=\"_parent\"><img src=\"https://colab.research.google.com/assets/colab-badge.svg\" alt=\"Open In Colab\"/></a>"
      ]
    },
    {
      "cell_type": "markdown",
      "source": [
        "# CS 167 Machine Learning\n",
        "## Day 2: Python review and Intro to Pandas"
      ],
      "metadata": {
        "id": "6HbN4eQ23S5n"
      }
    },
    {
      "cell_type": "code",
      "execution_count": null,
      "metadata": {
        "id": "unuEzl8ijKEZ"
      },
      "outputs": [],
      "source": [
        "a = 10\n",
        "b = 3.14\n",
        "c = \"machine learning\"\n",
        "d = 'hi'\n",
        "e = 'x'\n",
        "f = [1,2,3]\n",
        "print(a,b,c,d,e,f)\n",
        "# before you execute, what do you expect to be output?"
      ]
    },
    {
      "cell_type": "code",
      "source": [
        "print(\"a's type:\", type(a))\n",
        "a = \"variables can change types\"\n",
        "print(\"a's type:\", type(a))\n",
        "print(type(b))\n",
        "print(type(c))\n",
        "print(type(d))\n",
        "print(type(e))\n",
        "print(type(f))"
      ],
      "metadata": {
        "id": "_QAw-p13kDex"
      },
      "execution_count": null,
      "outputs": []
    },
    {
      "cell_type": "code",
      "source": [
        "x = [1,2,3]\n",
        "y = x\n",
        "x[0] = \"abc\"\n",
        "print(y)"
      ],
      "metadata": {
        "id": "8BbjKXkgkV-0"
      },
      "execution_count": null,
      "outputs": []
    },
    {
      "cell_type": "code",
      "source": [
        "z = x[1]\n",
        "x[1] = \"what\"\n",
        "print(\"x is:\", x)\n",
        "print(\"z is:\", z)\n",
        "x.append(70)\n",
        "x.insert(2,90)\n",
        "print(x)"
      ],
      "metadata": {
        "id": "UO0a7vADkokp"
      },
      "execution_count": null,
      "outputs": []
    },
    {
      "cell_type": "code",
      "source": [
        "print(x.index(90))\n",
        "print(len(x))\n",
        "print(x+x)"
      ],
      "metadata": {
        "id": "UfCVx72tlBDz"
      },
      "execution_count": null,
      "outputs": []
    },
    {
      "cell_type": "code",
      "source": [
        "my_list = [33,55,'hello', 'R2D2', 7.8, 'banana']\n",
        "print( my_list[1:5])\n",
        "print( my_list[:4])\n",
        "print( my_list[4:])\n",
        "print (my_list[:])"
      ],
      "metadata": {
        "id": "ZbeR8ogblH2-"
      },
      "execution_count": null,
      "outputs": []
    },
    {
      "cell_type": "code",
      "source": [
        "my_slice = my_list[1:5]\n",
        "my_slice[2] = \"what\"\n",
        "print(my_slice)\n",
        "print(my_list[1:5] + 2*['Drake', 'University'])\n",
        "my_list[:0] = [\"Bulldogs\"]\n",
        "print(my_list)\n"
      ],
      "metadata": {
        "id": "ndHMomTynIt1"
      },
      "execution_count": null,
      "outputs": []
    },
    {
      "cell_type": "code",
      "source": [
        "# Lists and Lists within Lists\n",
        "my_list = [42, 3.14, 'hello', ['ice', 'ice', 'baby']]\n",
        "print(my_list[3][2])\n",
        "print(my_list[2][1])\n",
        "# wait, what?\n",
        "# explain what is happening here"
      ],
      "metadata": {
        "id": "0gZBqPddnnGQ"
      },
      "execution_count": null,
      "outputs": []
    },
    {
      "cell_type": "markdown",
      "source": [
        "# Tuples\n",
        "In python a tuple is a collection which is ordered and unchangeable.<br>\n",
        "\n",
        "In Python, tuples are written with round brackets. – also known as “parens” ()\n"
      ],
      "metadata": {
        "id": "uXtI-hVkpbCI"
      }
    },
    {
      "cell_type": "code",
      "source": [
        "# Tuples\n",
        "my_tuple = (100,200,'300')\n",
        "print(my_tuple[1])\n",
        "\n",
        "# Dictionary\n",
        "my_dictionary = {'x': 42, 'y': 3.14}\n",
        "print(my_dictionary['x'])\n"
      ],
      "metadata": {
        "id": "AUUFR7w6otYn"
      },
      "execution_count": null,
      "outputs": []
    },
    {
      "cell_type": "markdown",
      "source": [
        "# Errors\n",
        "Each of these lines will cause an error.<br>\n",
        "Can you describe why before running them one at a time?\n"
      ],
      "metadata": {
        "id": "B2ty88U3p3Zh"
      }
    },
    {
      "cell_type": "code",
      "source": [
        "print(my_list[1][2])\n",
        "my_tuple[1] = 0\n",
        "print(my_dictionary[1])"
      ],
      "metadata": {
        "id": "ZfNBmevppzbI"
      },
      "execution_count": null,
      "outputs": []
    },
    {
      "cell_type": "code",
      "source": [
        "# if statments\n",
        "x = int(input())\n",
        "if x < 0:\n",
        "  print(\"x is negative\")\n",
        "elif x % 2:   # what's going on here? Can you do this?\n",
        "  print(\"x is positive and odd\")\n",
        "else:\n",
        "  print(\"x is even and nonnegative\")\n"
      ],
      "metadata": {
        "id": "UHpVJ5r9qB-b"
      },
      "execution_count": null,
      "outputs": []
    },
    {
      "cell_type": "code",
      "source": [
        "# for loops\n",
        "num_list = [3,7,9,17,2]\n",
        "for num in num_list:\n",
        "  print(num)\n",
        "\n",
        "for n in range(10,20):\n",
        "  print(n)"
      ],
      "metadata": {
        "id": "2iRoI35wqbDq"
      },
      "execution_count": null,
      "outputs": []
    },
    {
      "cell_type": "markdown",
      "source": [
        "# Iterating Through Data"
      ],
      "metadata": {
        "id": "mJUpeNP_q_3B"
      }
    },
    {
      "cell_type": "code",
      "source": [
        "# Method 1: iterate directly through the list/tuple/etc.\n",
        "my_data = [5.3, 3.2, 4.1, 5.9, 6.7, 3.5]\n",
        "for element in my_data:\n",
        "  print(element)\n"
      ],
      "metadata": {
        "id": "88oLVsx7q-be"
      },
      "execution_count": null,
      "outputs": []
    },
    {
      "cell_type": "code",
      "source": [
        "# Method 2: Use range to create a list of indices (indexes?), and then iterate over those. \n",
        "# Make sure to use subscript notation inside the loop.\n",
        "for idx in range(len(my_data)):\n",
        "  print(my_data[idx])\n"
      ],
      "metadata": {
        "id": "aItsiE_rtAhk"
      },
      "execution_count": null,
      "outputs": []
    },
    {
      "cell_type": "markdown",
      "source": [
        "# Exercise #1\n",
        "These 3 loops won’t work for iterating through the list.<br> \n",
        "Predict what each will do before running it. <br>\n",
        "Explain what the problem is. How would you fix it?\n"
      ],
      "metadata": {
        "id": "Qu29JbAEtP36"
      }
    },
    {
      "cell_type": "code",
      "source": [
        "my_data = [5.3, 3.2, 4.1, 5.9, 6.7, 3.5]\n",
        "for i in my_data:\n",
        "  print( my_data[i])"
      ],
      "metadata": {
        "id": "LtNad25_tO5P"
      },
      "execution_count": null,
      "outputs": []
    },
    {
      "cell_type": "code",
      "source": [
        "for i in range(len(my_data)):\n",
        "  print(i)"
      ],
      "metadata": {
        "id": "F29Tj4a-tfOf"
      },
      "execution_count": null,
      "outputs": []
    },
    {
      "cell_type": "code",
      "source": [
        "for i in range(my_data):\n",
        "  print(my_data[i])"
      ],
      "metadata": {
        "id": "T0hbWLjjtjYW"
      },
      "execution_count": null,
      "outputs": []
    },
    {
      "cell_type": "markdown",
      "source": [
        "# Intro to Pandas\n",
        "Pandas is a fast, powerful, flexible and easy to use open source data analysis and manipulation tool, built on top of the Python programming language.\n",
        "\n",
        "Essentially, it is a package that allows users to format data structures in Python\n"
      ],
      "metadata": {
        "id": "ncQYOO3ytpA7"
      }
    },
    {
      "cell_type": "code",
      "source": [
        "import pandas as pd\n",
        "# The first step is to mount your Google Drive to your Colab account.\n",
        "# You will be asked to authorize Colab to access your Google Drive.\n",
        "from google.colab import drive\n",
        "drive.mount('/content/drive')"
      ],
      "metadata": {
        "colab": {
          "base_uri": "https://localhost:8080/"
        },
        "id": "Bk97QbN8t1Tj",
        "outputId": "d02b63a8-d209-4727-dc78-b12a82548fb9"
      },
      "execution_count": 39,
      "outputs": [
        {
          "output_type": "stream",
          "name": "stdout",
          "text": [
            "Mounted at /content/drive\n"
          ]
        }
      ]
    },
    {
      "cell_type": "code",
      "source": [
        "# Download the data and put it in your Google Drive. Make note of the path to your folder\n",
        "# Your path will likely be something like '/content/drive/MyDrive/...wherever you put the data'\n",
        "\n",
        "# change the following line so that it points to where you put resturant.csv\n",
        "data = pd.read_csv(\"/content/drive/MyDrive/CS167Fall22/Datasets/restaurant.csv\")\n",
        "data.head()"
      ],
      "metadata": {
        "id": "GcXO7l4Dv2L8"
      },
      "execution_count": null,
      "outputs": []
    },
    {
      "cell_type": "code",
      "source": [
        "# Experiment with Pandas\n",
        "print(data['price'])"
      ],
      "metadata": {
        "id": "-GcvjnNDwkcn"
      },
      "execution_count": null,
      "outputs": []
    },
    {
      "cell_type": "code",
      "source": [
        "print(data.iloc[2])"
      ],
      "metadata": {
        "id": "K87ZaRqewo1q"
      },
      "execution_count": null,
      "outputs": []
    },
    {
      "cell_type": "code",
      "source": [
        "print(data.loc[3])"
      ],
      "metadata": {
        "id": "g3o7arK4xEIO"
      },
      "execution_count": null,
      "outputs": []
    },
    {
      "cell_type": "code",
      "source": [
        "print(data.loc[3,'type'])\n",
        "print(data.loc[3,'type'])\n",
        "print(data.iloc[3,8])\n",
        "print(data.iloc[3][8])"
      ],
      "metadata": {
        "id": "9OUyI9buxIHp"
      },
      "execution_count": null,
      "outputs": []
    },
    {
      "cell_type": "code",
      "source": [
        "print(data.iloc[3])"
      ],
      "metadata": {
        "id": "1s2YlXRXxq4G"
      },
      "execution_count": null,
      "outputs": []
    },
    {
      "cell_type": "code",
      "source": [
        "print(data['est'])"
      ],
      "metadata": {
        "id": "fMdsT5T8xv0H"
      },
      "execution_count": null,
      "outputs": []
    },
    {
      "cell_type": "code",
      "source": [
        "print(data.loc[5])"
      ],
      "metadata": {
        "id": "Vf_Azbtuxx2p"
      },
      "execution_count": null,
      "outputs": []
    },
    {
      "cell_type": "code",
      "source": [
        "print(type(data))\n",
        "print(type(data['est']))\n",
        "print(type(data.loc[0]))\n",
        "print(type(data.iloc[3,8]))"
      ],
      "metadata": {
        "id": "Xg1U8Z7Fx2nO"
      },
      "execution_count": null,
      "outputs": []
    },
    {
      "cell_type": "code",
      "source": [
        "# Slicing Dataframes\n",
        "# print(data.iloc[3:6,4:8])\n",
        "# print(data['rain'].iloc[4])\n",
        "print(data [[True,False,False,True,True,False,True,True,False,False,False,True]])"
      ],
      "metadata": {
        "id": "1wywrD6OyAhu"
      },
      "execution_count": null,
      "outputs": []
    },
    {
      "cell_type": "code",
      "source": [
        "# Subsets of Dataframes\n",
        "print(data['type'] == 'Thai')\n",
        "print(data[data['type'] == 'Thai'])"
      ],
      "metadata": {
        "id": "QEOCfTGFyqBs"
      },
      "execution_count": null,
      "outputs": []
    },
    {
      "cell_type": "markdown",
      "source": [
        "# Exercise #2\n",
        "1.   Print out all examples of Italian restaurants\n",
        "2.   Print out all examples where the estimated wait is 0-10 minutes\n",
        "\n",
        "\n"
      ],
      "metadata": {
        "id": "NPwfgmnPy7zP"
      }
    },
    {
      "cell_type": "code",
      "source": [],
      "metadata": {
        "id": "cRwpHXDh4XHw"
      },
      "execution_count": null,
      "outputs": []
    },
    {
      "cell_type": "markdown",
      "source": [
        "# Exercise #3\n",
        "\n",
        "\n",
        "1.   Load in the Iris Data set\n",
        "2.   Print the Setosa Examples\n",
        "3.   print examples with petal length greater than 6"
      ],
      "metadata": {
        "id": "yeh8JoQW5Efd"
      }
    },
    {
      "cell_type": "code",
      "source": [
        "iris_data = pd.read_csv(\"/content/drive/MyDrive/CS167Fall22/Datasets/irisData.csv\")\n",
        "iris_data.head()"
      ],
      "metadata": {
        "id": "86rfLtbB0GKQ"
      },
      "execution_count": null,
      "outputs": []
    },
    {
      "cell_type": "markdown",
      "source": [
        "# Exercise #4\n",
        "\n",
        "\n",
        "1.   Load in the Iris Data set\n",
        "2.   Find the average sepal width from the iris dataset\n",
        "3.   Find the average sepal width of just the Setosas\n",
        "\n",
        "\n",
        "\n",
        "\n"
      ],
      "metadata": {
        "id": "WE5cb7cM4Xem"
      }
    }
  ]
}