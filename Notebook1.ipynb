{
  "nbformat": 4,
  "nbformat_minor": 0,
  "metadata": {
    "colab": {
      "provenance": [],
      "collapsed_sections": [],
      "include_colab_link": true
    },
    "kernelspec": {
      "name": "python3",
      "display_name": "Python 3"
    },
    "language_info": {
      "name": "python"
    }
  },
  "cells": [
    {
      "cell_type": "markdown",
      "metadata": {
        "id": "view-in-github",
        "colab_type": "text"
      },
      "source": [
        "<a href=\"https://colab.research.google.com/github/abequette/CS167Fall22Code/blob/main/Notebook1.ipynb\" target=\"_parent\"><img src=\"https://colab.research.google.com/assets/colab-badge.svg\" alt=\"Open In Colab\"/></a>"
      ]
    },
    {
      "cell_type": "markdown",
      "source": [
        "# Notebook #1: Python, Pandas, and Movies!\n",
        "**Name: your name here**\n",
        "\n",
        "**Due 9/13 before class**\n",
        "\n",
        "The goal of this notebook is to become comfortable with using `python` and `pandas` as well as grabbing specific slices of the dataset. \n",
        "\n",
        "Start off by importing the data. Make sure the data is in your Google Drive, and that you update the path to point to where you have your data saved in Drive."
      ],
      "metadata": {
        "id": "znLmB8BEzT9M"
      }
    },
    {
      "cell_type": "code",
      "execution_count": 1,
      "metadata": {
        "id": "pEUiWYhVWPxa",
        "colab": {
          "base_uri": "https://localhost:8080/"
        },
        "outputId": "fbfcfb4f-c670-4fd3-bd07-6ec44420abe1"
      },
      "outputs": [
        {
          "output_type": "stream",
          "name": "stdout",
          "text": [
            "Mounted at /content/drive\n"
          ]
        }
      ],
      "source": [
        "#selecting columns in dataframes\n",
        "import pandas\n",
        "from google.colab import drive\n",
        "drive.mount('/content/drive')"
      ]
    },
    {
      "cell_type": "code",
      "source": [
        "#import the data:\n",
        "#make sure the path on the line below corresponds to the path where you put your dataset.\n",
        "movies = pandas.read_csv('/content/drive/MyDrive/CS167/MoviesData.csv')"
      ],
      "metadata": {
        "id": "eN3_rgW0Wa2R"
      },
      "execution_count": 4,
      "outputs": []
    },
    {
      "cell_type": "markdown",
      "source": [
        "## Exercise #1: \n",
        "Print out all of the possible values for the Genres.\n",
        "- *Hint: I'm looking for each possible Genre to be ouput once. For example, if I tossed a coin 3 times and got Heads, Tails, Heads, the possible values of the coin flip are Heads and Tails. There is a function for this. It should require one line of code.*"
      ],
      "metadata": {
        "id": "OYCfn1aKzmJ5"
      }
    },
    {
      "cell_type": "code",
      "source": [
        "movies['Genre'].unique()"
      ],
      "metadata": {
        "colab": {
          "base_uri": "https://localhost:8080/"
        },
        "id": "U0utmdDYySTF",
        "outputId": "9a95bc72-01fe-47fc-ade8-649e55ee0c1a"
      },
      "execution_count": 13,
      "outputs": [
        {
          "output_type": "execute_result",
          "data": {
            "text/plain": [
              "array(['Action', 'Adventure', 'Western', 'Animation', 'Biography',\n",
              "       'Drama', 'Crime', 'Comedy', 'Documentary', 'Family', 'Horror',\n",
              "       'Thriller', 'Mystery', nan, 'Fantasy', 'Romance', 'Short',\n",
              "       'Sci-Fi', 'Talk-Show', 'Sport', 'Reality-TV', 'Musical', 'War',\n",
              "       'News', 'History', 'Film-Noir'], dtype=object)"
            ]
          },
          "metadata": {},
          "execution_count": 13
        }
      ]
    },
    {
      "cell_type": "markdown",
      "source": [
        "## Exercise #2:\n",
        "Create a subset of data representing movies from the year 2000-2010 (including both 2000 and 2010) with the value \"Action\" in the Genre column. Save this DataFrame to the variable name `older_action_movies`. Display the first 5 lines of this subset."
      ],
      "metadata": {
        "id": "R0u87ioL0fHe"
      }
    },
    {
      "cell_type": "code",
      "source": [
        "older_action_movies = movies[movies[\"Genre\"] == \"Action\"]\n",
        "older_action_movies.head()"
      ],
      "metadata": {
        "id": "FOLZn1Wqz4Yg",
        "outputId": "3ef25df1-5cc1-4e85-e716-2c38a264e842",
        "colab": {
          "base_uri": "https://localhost:8080/",
          "height": 206
        }
      },
      "execution_count": 16,
      "outputs": [
        {
          "output_type": "execute_result",
          "data": {
            "text/plain": [
              "                                 Title  Year  Age  IMDb  Rotten Tomatoes  \\\n",
              "0                            Inception  2010  13+   8.8             87.0   \n",
              "1                           The Matrix  1999  18+   8.7             87.0   \n",
              "2               Avengers: Infinity War  2018  13+   8.5             84.0   \n",
              "8              Raiders of the Lost Ark  1981   7+   8.4             95.0   \n",
              "16  Indiana Jones and the Last Crusade  1989  13+   8.2             88.0   \n",
              "\n",
              "                         Directors   Genre  Runtime        Country  \n",
              "0                Christopher Nolan  Action    148.0  United States  \n",
              "1   Lana Wachowski,Lilly Wachowski  Action    136.0  United States  \n",
              "2          Anthony Russo,Joe Russo  Action    149.0  United States  \n",
              "8                 Steven Spielberg  Action    115.0  United States  \n",
              "16                Steven Spielberg  Action    127.0  United States  "
            ],
            "text/html": [
              "\n",
              "  <div id=\"df-0bad7016-20fd-4ae1-bc1f-529ea2d166ec\">\n",
              "    <div class=\"colab-df-container\">\n",
              "      <div>\n",
              "<style scoped>\n",
              "    .dataframe tbody tr th:only-of-type {\n",
              "        vertical-align: middle;\n",
              "    }\n",
              "\n",
              "    .dataframe tbody tr th {\n",
              "        vertical-align: top;\n",
              "    }\n",
              "\n",
              "    .dataframe thead th {\n",
              "        text-align: right;\n",
              "    }\n",
              "</style>\n",
              "<table border=\"1\" class=\"dataframe\">\n",
              "  <thead>\n",
              "    <tr style=\"text-align: right;\">\n",
              "      <th></th>\n",
              "      <th>Title</th>\n",
              "      <th>Year</th>\n",
              "      <th>Age</th>\n",
              "      <th>IMDb</th>\n",
              "      <th>Rotten Tomatoes</th>\n",
              "      <th>Directors</th>\n",
              "      <th>Genre</th>\n",
              "      <th>Runtime</th>\n",
              "      <th>Country</th>\n",
              "    </tr>\n",
              "  </thead>\n",
              "  <tbody>\n",
              "    <tr>\n",
              "      <th>0</th>\n",
              "      <td>Inception</td>\n",
              "      <td>2010</td>\n",
              "      <td>13+</td>\n",
              "      <td>8.8</td>\n",
              "      <td>87.0</td>\n",
              "      <td>Christopher Nolan</td>\n",
              "      <td>Action</td>\n",
              "      <td>148.0</td>\n",
              "      <td>United States</td>\n",
              "    </tr>\n",
              "    <tr>\n",
              "      <th>1</th>\n",
              "      <td>The Matrix</td>\n",
              "      <td>1999</td>\n",
              "      <td>18+</td>\n",
              "      <td>8.7</td>\n",
              "      <td>87.0</td>\n",
              "      <td>Lana Wachowski,Lilly Wachowski</td>\n",
              "      <td>Action</td>\n",
              "      <td>136.0</td>\n",
              "      <td>United States</td>\n",
              "    </tr>\n",
              "    <tr>\n",
              "      <th>2</th>\n",
              "      <td>Avengers: Infinity War</td>\n",
              "      <td>2018</td>\n",
              "      <td>13+</td>\n",
              "      <td>8.5</td>\n",
              "      <td>84.0</td>\n",
              "      <td>Anthony Russo,Joe Russo</td>\n",
              "      <td>Action</td>\n",
              "      <td>149.0</td>\n",
              "      <td>United States</td>\n",
              "    </tr>\n",
              "    <tr>\n",
              "      <th>8</th>\n",
              "      <td>Raiders of the Lost Ark</td>\n",
              "      <td>1981</td>\n",
              "      <td>7+</td>\n",
              "      <td>8.4</td>\n",
              "      <td>95.0</td>\n",
              "      <td>Steven Spielberg</td>\n",
              "      <td>Action</td>\n",
              "      <td>115.0</td>\n",
              "      <td>United States</td>\n",
              "    </tr>\n",
              "    <tr>\n",
              "      <th>16</th>\n",
              "      <td>Indiana Jones and the Last Crusade</td>\n",
              "      <td>1989</td>\n",
              "      <td>13+</td>\n",
              "      <td>8.2</td>\n",
              "      <td>88.0</td>\n",
              "      <td>Steven Spielberg</td>\n",
              "      <td>Action</td>\n",
              "      <td>127.0</td>\n",
              "      <td>United States</td>\n",
              "    </tr>\n",
              "  </tbody>\n",
              "</table>\n",
              "</div>\n",
              "      <button class=\"colab-df-convert\" onclick=\"convertToInteractive('df-0bad7016-20fd-4ae1-bc1f-529ea2d166ec')\"\n",
              "              title=\"Convert this dataframe to an interactive table.\"\n",
              "              style=\"display:none;\">\n",
              "        \n",
              "  <svg xmlns=\"http://www.w3.org/2000/svg\" height=\"24px\"viewBox=\"0 0 24 24\"\n",
              "       width=\"24px\">\n",
              "    <path d=\"M0 0h24v24H0V0z\" fill=\"none\"/>\n",
              "    <path d=\"M18.56 5.44l.94 2.06.94-2.06 2.06-.94-2.06-.94-.94-2.06-.94 2.06-2.06.94zm-11 1L8.5 8.5l.94-2.06 2.06-.94-2.06-.94L8.5 2.5l-.94 2.06-2.06.94zm10 10l.94 2.06.94-2.06 2.06-.94-2.06-.94-.94-2.06-.94 2.06-2.06.94z\"/><path d=\"M17.41 7.96l-1.37-1.37c-.4-.4-.92-.59-1.43-.59-.52 0-1.04.2-1.43.59L10.3 9.45l-7.72 7.72c-.78.78-.78 2.05 0 2.83L4 21.41c.39.39.9.59 1.41.59.51 0 1.02-.2 1.41-.59l7.78-7.78 2.81-2.81c.8-.78.8-2.07 0-2.86zM5.41 20L4 18.59l7.72-7.72 1.47 1.35L5.41 20z\"/>\n",
              "  </svg>\n",
              "      </button>\n",
              "      \n",
              "  <style>\n",
              "    .colab-df-container {\n",
              "      display:flex;\n",
              "      flex-wrap:wrap;\n",
              "      gap: 12px;\n",
              "    }\n",
              "\n",
              "    .colab-df-convert {\n",
              "      background-color: #E8F0FE;\n",
              "      border: none;\n",
              "      border-radius: 50%;\n",
              "      cursor: pointer;\n",
              "      display: none;\n",
              "      fill: #1967D2;\n",
              "      height: 32px;\n",
              "      padding: 0 0 0 0;\n",
              "      width: 32px;\n",
              "    }\n",
              "\n",
              "    .colab-df-convert:hover {\n",
              "      background-color: #E2EBFA;\n",
              "      box-shadow: 0px 1px 2px rgba(60, 64, 67, 0.3), 0px 1px 3px 1px rgba(60, 64, 67, 0.15);\n",
              "      fill: #174EA6;\n",
              "    }\n",
              "\n",
              "    [theme=dark] .colab-df-convert {\n",
              "      background-color: #3B4455;\n",
              "      fill: #D2E3FC;\n",
              "    }\n",
              "\n",
              "    [theme=dark] .colab-df-convert:hover {\n",
              "      background-color: #434B5C;\n",
              "      box-shadow: 0px 1px 3px 1px rgba(0, 0, 0, 0.15);\n",
              "      filter: drop-shadow(0px 1px 2px rgba(0, 0, 0, 0.3));\n",
              "      fill: #FFFFFF;\n",
              "    }\n",
              "  </style>\n",
              "\n",
              "      <script>\n",
              "        const buttonEl =\n",
              "          document.querySelector('#df-0bad7016-20fd-4ae1-bc1f-529ea2d166ec button.colab-df-convert');\n",
              "        buttonEl.style.display =\n",
              "          google.colab.kernel.accessAllowed ? 'block' : 'none';\n",
              "\n",
              "        async function convertToInteractive(key) {\n",
              "          const element = document.querySelector('#df-0bad7016-20fd-4ae1-bc1f-529ea2d166ec');\n",
              "          const dataTable =\n",
              "            await google.colab.kernel.invokeFunction('convertToInteractive',\n",
              "                                                     [key], {});\n",
              "          if (!dataTable) return;\n",
              "\n",
              "          const docLinkHtml = 'Like what you see? Visit the ' +\n",
              "            '<a target=\"_blank\" href=https://colab.research.google.com/notebooks/data_table.ipynb>data table notebook</a>'\n",
              "            + ' to learn more about interactive tables.';\n",
              "          element.innerHTML = '';\n",
              "          dataTable['output_type'] = 'display_data';\n",
              "          await google.colab.output.renderOutput(dataTable, element);\n",
              "          const docLink = document.createElement('div');\n",
              "          docLink.innerHTML = docLinkHtml;\n",
              "          element.appendChild(docLink);\n",
              "        }\n",
              "      </script>\n",
              "    </div>\n",
              "  </div>\n",
              "  "
            ]
          },
          "metadata": {},
          "execution_count": 16
        }
      ]
    },
    {
      "cell_type": "markdown",
      "source": [
        "## Exercise #3\n",
        "Using `older_action_movies`, what is the *median* **IMDb** rating?"
      ],
      "metadata": {
        "id": "BKlHFlGP1OLG"
      }
    },
    {
      "cell_type": "markdown",
      "source": [
        "## Exercise #4\n",
        "Create a new subset with only movies with `Rotten Tomatoes` values < 20 and `IMDb` values < 3.0 (these should be awful movies!). Include only 4 columns: the `Title`, `Year`, `IMDb`, and `Rotten Tomatoes`. Display all of the rows in this subset.\n"
      ],
      "metadata": {
        "id": "B9UXCYtC1pOP"
      }
    },
    {
      "cell_type": "markdown",
      "source": [
        "## Exercise #5\n",
        "\n",
        "What is the average (mean) IMDb score for each of the different Genres?  (I'm looking at the average of the 'IMDb' column, grouped by Genre--so Action v Adventure v Animation etc.). Look at this list to determine which genre has the highest average.\n",
        "- In addition to supplying the code to output the averages for each Genre,answer the question of the hightest average in a text cell ...*"
      ],
      "metadata": {
        "id": "91OfntId3DsF"
      }
    },
    {
      "cell_type": "markdown",
      "source": [
        "## Exercise #6\n",
        "\n",
        "Do something cool. Using the movies dataset, get creative and show me something about the dataset. Use a text cell to explain what you did."
      ],
      "metadata": {
        "id": "fG3cWlnQlWxh"
      }
    }
  ]
}