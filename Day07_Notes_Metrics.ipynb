{
  "nbformat": 4,
  "nbformat_minor": 0,
  "metadata": {
    "colab": {
      "provenance": [],
      "collapsed_sections": [],
      "include_colab_link": true
    },
    "kernelspec": {
      "name": "python3",
      "display_name": "Python 3"
    }
  },
  "cells": [
    {
      "cell_type": "markdown",
      "metadata": {
        "id": "view-in-github",
        "colab_type": "text"
      },
      "source": [
        "<a href=\"https://colab.research.google.com/github/abequette/CS167Fall22Code/blob/main/Day07_Notes_Metrics.ipynb\" target=\"_parent\"><img src=\"https://colab.research.google.com/assets/colab-badge.svg\" alt=\"Open In Colab\"/></a>"
      ]
    },
    {
      "cell_type": "markdown",
      "source": [
        "## Example code from CS 167 on September 20, 2022\n"
      ],
      "metadata": {
        "id": "OBeIpkdkchRS"
      }
    },
    {
      "cell_type": "markdown",
      "metadata": {
        "id": "frJwynUligs4"
      },
      "source": [
        "# Graphs! \n",
        "Let's take a look at how to plot data in a iPython Notebook:"
      ]
    },
    {
      "cell_type": "code",
      "metadata": {
        "id": "fn8urTfmie4B",
        "colab": {
          "base_uri": "https://localhost:8080/",
          "height": 308
        },
        "outputId": "5d3d00d4-ea01-40d3-e750-f39dd21333e8"
      },
      "source": [
        "import matplotlib.pyplot as plt\n",
        "\n",
        "#lets start by making up some data\n",
        "xvals = [1,2,3,4,5]\n",
        "series1 = [.66,.61,.69,.73,.77]\n",
        "series2 = [.8,.83,.77,.81,.79]\n",
        "series3 = [.55,.67,.5,.73,.66]\n",
        "\n",
        "#add names for the graph and axes\n",
        "plt.suptitle('my rockin plot',fontsize=18)\n",
        "plt.xlabel('a very cool x axis')\n",
        "plt.ylabel('rad y axis')\n",
        "\n",
        "#and plot our series\n",
        "plt.plot(xvals,series1,'ro-',label='1st series')\n",
        "plt.plot(xvals,series2,'bs-',label='2nd series')\n",
        "plt.plot(xvals,series3,'g^-',label='3rd series')\n",
        "\n",
        "# add a key and set the values for your axis (plt.axis[x_min, x_max, y_min, y_max])\n",
        "plt.legend(loc='lower right', shadow=True)\n",
        "plt.axis([0, 6, 0, 1]) ## 0 to 6 in x-dimension; 0 to 1 in y-dimension\n",
        "plt.show()"
      ],
      "execution_count": 1,
      "outputs": [
        {
          "output_type": "display_data",
          "data": {
            "text/plain": [
              "<Figure size 432x288 with 1 Axes>"
            ],
            "image/png": "[encoded data removed]"
          },
          "metadata": {
            "needs_background": "light"
          }
        }
      ]
    },
    {
      "cell_type": "code",
      "metadata": {
        "id": "TMZ9_Uxsitxo",
        "colab": {
          "base_uri": "https://localhost:8080/"
        },
        "outputId": "1d0301c5-1075-4c6b-d813-9da7e153797c"
      },
      "source": [
        "#Now, let's plot something about our data.\n",
        "import pandas\n",
        "import numpy\n",
        "from google.colab import drive\n",
        "drive.mount('/content/drive')\n"
      ],
      "execution_count": 2,
      "outputs": [
        {
          "output_type": "stream",
          "name": "stdout",
          "text": [
            "Mounted at /content/drive\n"
          ]
        }
      ]
    },
    {
      "cell_type": "code",
      "source": [
        "\n",
        "#load in the data\n",
        "spotify_data = pandas.read_csv('/content/drive/MyDrive/CS167/spotify_top_charts.csv') #change this line to point to your data\n",
        "\n",
        "#work with a subset of the data\n",
        "subset = spotify_data[['artist_names','track_name','peak_rank']]\n",
        "spotify_subset = subset.dropna(subset=['peak_rank'])\n",
        "spotify_subset.head()\n"
      ],
      "metadata": {
        "id": "9AV9M46FYhUJ",
        "colab": {
          "base_uri": "https://localhost:8080/",
          "height": 206
        },
        "outputId": "4a9a1778-52c2-4b27-c1f9-34a5aa09aa4d"
      },
      "execution_count": 4,
      "outputs": [
        {
          "output_type": "execute_result",
          "data": {
            "text/plain": [
              "                                      artist_names  \\\n",
              "0                                    Glass Animals   \n",
              "1                     The Kid LAROI, Justin Bieber   \n",
              "2                                           Anitta   \n",
              "3  Imagine Dragons, JID, Arcane, League of Legends   \n",
              "4                                            GAYLE   \n",
              "\n",
              "                                          track_name  peak_rank  \n",
              "0                                         Heat Waves        1.0  \n",
              "1                          STAY (with Justin Bieber)        1.0  \n",
              "2                                           Envolver        3.0  \n",
              "3  Enemy (with JID) - from the series Arcane Leag...        3.0  \n",
              "4                                            abcdefu        1.0  "
            ],
            "text/html": [
              "\n",
              "  <div id=\"df-3f9dd1bb-aa4f-4d9f-86ba-f27f0c146ef6\">\n",
              "    <div class=\"colab-df-container\">\n",
              "      <div>\n",
              "<style scoped>\n",
              "    .dataframe tbody tr th:only-of-type {\n",
              "        vertical-align: middle;\n",
              "    }\n",
              "\n",
              "    .dataframe tbody tr th {\n",
              "        vertical-align: top;\n",
              "    }\n",
              "\n",
              "    .dataframe thead th {\n",
              "        text-align: right;\n",
              "    }\n",
              "</style>\n",
              "<table border=\"1\" class=\"dataframe\">\n",
              "  <thead>\n",
              "    <tr style=\"text-align: right;\">\n",
              "      <th></th>\n",
              "      <th>artist_names</th>\n",
              "      <th>track_name</th>\n",
              "      <th>peak_rank</th>\n",
              "    </tr>\n",
              "  </thead>\n",
              "  <tbody>\n",
              "    <tr>\n",
              "      <th>0</th>\n",
              "      <td>Glass Animals</td>\n",
              "      <td>Heat Waves</td>\n",
              "      <td>1.0</td>\n",
              "    </tr>\n",
              "    <tr>\n",
              "      <th>1</th>\n",
              "      <td>The Kid LAROI, Justin Bieber</td>\n",
              "      <td>STAY (with Justin Bieber)</td>\n",
              "      <td>1.0</td>\n",
              "    </tr>\n",
              "    <tr>\n",
              "      <th>2</th>\n",
              "      <td>Anitta</td>\n",
              "      <td>Envolver</td>\n",
              "      <td>3.0</td>\n",
              "    </tr>\n",
              "    <tr>\n",
              "      <th>3</th>\n",
              "      <td>Imagine Dragons, JID, Arcane, League of Legends</td>\n",
              "      <td>Enemy (with JID) - from the series Arcane Leag...</td>\n",
              "      <td>3.0</td>\n",
              "    </tr>\n",
              "    <tr>\n",
              "      <th>4</th>\n",
              "      <td>GAYLE</td>\n",
              "      <td>abcdefu</td>\n",
              "      <td>1.0</td>\n",
              "    </tr>\n",
              "  </tbody>\n",
              "</table>\n",
              "</div>\n",
              "      <button class=\"colab-df-convert\" onclick=\"convertToInteractive('df-3f9dd1bb-aa4f-4d9f-86ba-f27f0c146ef6')\"\n",
              "              title=\"Convert this dataframe to an interactive table.\"\n",
              "              style=\"display:none;\">\n",
              "        \n",
              "  <svg xmlns=\"http://www.w3.org/2000/svg\" height=\"24px\"viewBox=\"0 0 24 24\"\n",
              "       width=\"24px\">\n",
              "    <path d=\"M0 0h24v24H0V0z\" fill=\"none\"/>\n",
              "    <path d=\"M18.56 5.44l.94 2.06.94-2.06 2.06-.94-2.06-.94-.94-2.06-.94 2.06-2.06.94zm-11 1L8.5 8.5l.94-2.06 2.06-.94-2.06-.94L8.5 2.5l-.94 2.06-2.06.94zm10 10l.94 2.06.94-2.06 2.06-.94-2.06-.94-.94-2.06-.94 2.06-2.06.94z\"/><path d=\"M17.41 7.96l-1.37-1.37c-.4-.4-.92-.59-1.43-.59-.52 0-1.04.2-1.43.59L10.3 9.45l-7.72 7.72c-.78.78-.78 2.05 0 2.83L4 21.41c.39.39.9.59 1.41.59.51 0 1.02-.2 1.41-.59l7.78-7.78 2.81-2.81c.8-.78.8-2.07 0-2.86zM5.41 20L4 18.59l7.72-7.72 1.47 1.35L5.41 20z\"/>\n",
              "  </svg>\n",
              "      </button>\n",
              "      \n",
              "  <style>\n",
              "    .colab-df-container {\n",
              "      display:flex;\n",
              "      flex-wrap:wrap;\n",
              "      gap: 12px;\n",
              "    }\n",
              "\n",
              "    .colab-df-convert {\n",
              "      background-color: #E8F0FE;\n",
              "      border: none;\n",
              "      border-radius: 50%;\n",
              "      cursor: pointer;\n",
              "      display: none;\n",
              "      fill: #1967D2;\n",
              "      height: 32px;\n",
              "      padding: 0 0 0 0;\n",
              "      width: 32px;\n",
              "    }\n",
              "\n",
              "    .colab-df-convert:hover {\n",
              "      background-color: #E2EBFA;\n",
              "      box-shadow: 0px 1px 2px rgba(60, 64, 67, 0.3), 0px 1px 3px 1px rgba(60, 64, 67, 0.15);\n",
              "      fill: #174EA6;\n",
              "    }\n",
              "\n",
              "    [theme=dark] .colab-df-convert {\n",
              "      background-color: #3B4455;\n",
              "      fill: #D2E3FC;\n",
              "    }\n",
              "\n",
              "    [theme=dark] .colab-df-convert:hover {\n",
              "      background-color: #434B5C;\n",
              "      box-shadow: 0px 1px 3px 1px rgba(0, 0, 0, 0.15);\n",
              "      filter: drop-shadow(0px 1px 2px rgba(0, 0, 0, 0.3));\n",
              "      fill: #FFFFFF;\n",
              "    }\n",
              "  </style>\n",
              "\n",
              "      <script>\n",
              "        const buttonEl =\n",
              "          document.querySelector('#df-3f9dd1bb-aa4f-4d9f-86ba-f27f0c146ef6 button.colab-df-convert');\n",
              "        buttonEl.style.display =\n",
              "          google.colab.kernel.accessAllowed ? 'block' : 'none';\n",
              "\n",
              "        async function convertToInteractive(key) {\n",
              "          const element = document.querySelector('#df-3f9dd1bb-aa4f-4d9f-86ba-f27f0c146ef6');\n",
              "          const dataTable =\n",
              "            await google.colab.kernel.invokeFunction('convertToInteractive',\n",
              "                                                     [key], {});\n",
              "          if (!dataTable) return;\n",
              "\n",
              "          const docLinkHtml = 'Like what you see? Visit the ' +\n",
              "            '<a target=\"_blank\" href=https://colab.research.google.com/notebooks/data_table.ipynb>data table notebook</a>'\n",
              "            + ' to learn more about interactive tables.';\n",
              "          element.innerHTML = '';\n",
              "          dataTable['output_type'] = 'display_data';\n",
              "          await google.colab.output.renderOutput(dataTable, element);\n",
              "          const docLink = document.createElement('div');\n",
              "          docLink.innerHTML = docLinkHtml;\n",
              "          element.appendChild(docLink);\n",
              "        }\n",
              "      </script>\n",
              "    </div>\n",
              "  </div>\n",
              "  "
            ]
          },
          "metadata": {},
          "execution_count": 4
        }
      ]
    },
    {
      "cell_type": "code",
      "source": [
        "import matplotlib.pyplot as plt\n",
        "\n",
        "# a silly function that returns the average peak_rank for the first k tracks in the dataframe\n",
        "def getAveragePeakRank(data,k):\n",
        "    return data[\"peak_rank\"].iloc[0:k].mean()\n",
        "def getMedianPeakRank(data,k):\n",
        "    return data[\"peak_rank\"].iloc[0:k].median()\n",
        "number_of_points = 50\n",
        "\n",
        "# populate the list\n",
        "ranks_list = []\n",
        "for i in range(1,number_of_points):\n",
        "    val = getAveragePeakRank(spotify_subset,i)\n",
        "    ranks_list.append(val)\n",
        "ranks_med = []\n",
        "for i in range(1,number_of_points):\n",
        "    val = getMedianPeakRank(spotify_subset,i)\n",
        "    ranks_med.append(val)\n",
        "\n",
        "# plot it!\n",
        "xvals = range(1,number_of_points)\n",
        "plt.suptitle('First 50 Spotify Peak Rank',fontsize=18)\n",
        "plt.xlabel('data points used in average')\n",
        "plt.ylabel('average peak rank')\n",
        "plt.plot(xvals,ranks_list,'r^-',label='Mean Peak Rank')\n",
        "plt.plot(xvals,ranks_med,'bo-',label='Median Peak Rank')\n",
        "plt.legend(loc='lower right', shadow=True)\n",
        "ymin = min(ranks_list)\n",
        "ymax = max(ranks_list)\n",
        "plt.axis([1, number_of_points, ymin, ymax])\n",
        "plt.show()"
      ],
      "metadata": {
        "id": "4hAlhxL_rceX",
        "colab": {
          "base_uri": "https://localhost:8080/",
          "height": 599
        },
        "outputId": "616f1a28-1e34-46b1-dfc7-27f70c12e4f6"
      },
      "execution_count": 16,
      "outputs": [
        {
          "output_type": "display_data",
          "data": {
            "text/plain": [
              "<Figure size 432x288 with 1 Axes>"
            ],
            "image/png": "[encoded data removed]"
          },
          "metadata": {
            "needs_background": "light"
          }
        },
        {
          "output_type": "display_data",
          "data": {
            "text/plain": [
              "<Figure size 432x288 with 1 Axes>"
            ],
            "image/png": "[encoded data removed]"
          },
          "metadata": {
            "needs_background": "light"
          }
        }
      ]
    },
    {
      "cell_type": "markdown",
      "source": [
        "# Exercise #1\n",
        "To do:\n",
        "- Change the number of points to 50\n",
        "- Change the range\n",
        "- Change the titles\n",
        "- Also plot the median (blue circles)\n",
        "\n"
      ],
      "metadata": {
        "id": "KI__GNjMDTdj"
      }
    },
    {
      "cell_type": "code",
      "metadata": {
        "id": "JgSV62hluYzx",
        "outputId": "fb1dc407-bf1d-4ae9-e447-fa1a8c1ec355",
        "colab": {
          "base_uri": "https://localhost:8080/",
          "height": 308
        }
      },
      "source": [
        "# exercise #1 code goes here:\n",
        "\n",
        "import matplotlib.pyplot as plt\n",
        "\n",
        "# a silly function that returns the average peak_rank for the first k tracks in the dataframe\n",
        "def getAveragePeakRank(data,k):\n",
        "    return data[\"peak_rank\"].iloc[0:k].mean()\n",
        "def getMedianPeakRank(data,k):\n",
        "    return data[\"peak_rank\"].iloc[0:k].median()\n",
        "number_of_points = 50\n",
        "\n",
        "# populate the list\n",
        "ranks_list = []\n",
        "for i in range(1,number_of_points):\n",
        "    val = getAveragePeakRank(spotify_subset,i)\n",
        "    ranks_list.append(val)\n",
        "ranks_med = []\n",
        "for i in range(1,number_of_points):\n",
        "    val = getMedianPeakRank(spotify_subset,i)\n",
        "    ranks_med.append(val)\n",
        "\n",
        "# plot it!\n",
        "xvals = range(1,number_of_points)\n",
        "plt.suptitle('First 50 Spotify Peak Rank',fontsize=18)\n",
        "plt.xlabel('data points used in average')\n",
        "plt.ylabel('average/median peak rank')\n",
        "plt.plot(xvals,ranks_list,'r^-',label='Mean Peak Rank')\n",
        "plt.plot(xvals,ranks_med,'bo-',label='Median Peak Rank')\n",
        "plt.legend(loc='lower right', shadow=True)\n",
        "ymin = min(ranks_list)\n",
        "ymax = max(ranks_list)\n",
        "plt.axis([1, number_of_points, ymin, ymax])\n",
        "plt.show()\n"
      ],
      "execution_count": 18,
      "outputs": [
        {
          "output_type": "display_data",
          "data": {
            "text/plain": [
              "<Figure size 432x288 with 1 Axes>"
            ],
            "image/png": "[encoded data removed]"
          },
          "metadata": {
            "needs_background": "light"
          }
        }
      ]
    },
    {
      "cell_type": "markdown",
      "metadata": {
        "id": "iASFhd-li8CJ"
      },
      "source": [
        "# Metrics and Testing\n",
        "Let's use the iris dataset and see how accurate our kNN model is."
      ]
    },
    {
      "cell_type": "code",
      "metadata": {
        "id": "D5MUhMRvhpip"
      },
      "source": [
        "data = pandas.read_csv('/content/drive/MyDrive/CS167/irisData.csv') #change this line to point to your data\n",
        "#shuffle the data - \"sampling\" the full set in random order\n",
        "shuffled_data = data.sample(frac=1, random_state=41)\n",
        "#use the first 20 rows in the shuffled set as testing data #train with the rest\n",
        "test_data = shuffled_data.iloc[0:20]\n",
        "train_data = shuffled_data.iloc[20:]"
      ],
      "execution_count": 20,
      "outputs": []
    },
    {
      "cell_type": "code",
      "source": [
        "# take a look at the testing_data\n",
        "print(\"testing data shape:\", test_data.shape)\n",
        "test_data.head()"
      ],
      "metadata": {
        "id": "AxZwAEGeJ6wm",
        "outputId": "c22911a7-3604-484a-d52d-dc1b407efe0b",
        "colab": {
          "base_uri": "https://localhost:8080/",
          "height": 224
        }
      },
      "execution_count": 21,
      "outputs": [
        {
          "output_type": "stream",
          "name": "stdout",
          "text": [
            "testing data shape: (20, 5)\n"
          ]
        },
        {
          "output_type": "execute_result",
          "data": {
            "text/plain": [
              "     sepal length  sepal width  petal length  petal width          species\n",
              "119           6.0          2.2           5.0          1.5   Iris-virginica\n",
              "128           6.4          2.8           5.6          2.1   Iris-virginica\n",
              "135           7.7          3.0           6.1          2.3   Iris-virginica\n",
              "91            6.1          3.0           4.6          1.4  Iris-versicolor\n",
              "112           6.8          3.0           5.5          2.1   Iris-virginica"
            ],
            "text/html": [
              "\n",
              "  <div id=\"df-92cd637a-e751-469b-a11a-3a2986c4d5a4\">\n",
              "    <div class=\"colab-df-container\">\n",
              "      <div>\n",
              "<style scoped>\n",
              "    .dataframe tbody tr th:only-of-type {\n",
              "        vertical-align: middle;\n",
              "    }\n",
              "\n",
              "    .dataframe tbody tr th {\n",
              "        vertical-align: top;\n",
              "    }\n",
              "\n",
              "    .dataframe thead th {\n",
              "        text-align: right;\n",
              "    }\n",
              "</style>\n",
              "<table border=\"1\" class=\"dataframe\">\n",
              "  <thead>\n",
              "    <tr style=\"text-align: right;\">\n",
              "      <th></th>\n",
              "      <th>sepal length</th>\n",
              "      <th>sepal width</th>\n",
              "      <th>petal length</th>\n",
              "      <th>petal width</th>\n",
              "      <th>species</th>\n",
              "    </tr>\n",
              "  </thead>\n",
              "  <tbody>\n",
              "    <tr>\n",
              "      <th>119</th>\n",
              "      <td>6.0</td>\n",
              "      <td>2.2</td>\n",
              "      <td>5.0</td>\n",
              "      <td>1.5</td>\n",
              "      <td>Iris-virginica</td>\n",
              "    </tr>\n",
              "    <tr>\n",
              "      <th>128</th>\n",
              "      <td>6.4</td>\n",
              "      <td>2.8</td>\n",
              "      <td>5.6</td>\n",
              "      <td>2.1</td>\n",
              "      <td>Iris-virginica</td>\n",
              "    </tr>\n",
              "    <tr>\n",
              "      <th>135</th>\n",
              "      <td>7.7</td>\n",
              "      <td>3.0</td>\n",
              "      <td>6.1</td>\n",
              "      <td>2.3</td>\n",
              "      <td>Iris-virginica</td>\n",
              "    </tr>\n",
              "    <tr>\n",
              "      <th>91</th>\n",
              "      <td>6.1</td>\n",
              "      <td>3.0</td>\n",
              "      <td>4.6</td>\n",
              "      <td>1.4</td>\n",
              "      <td>Iris-versicolor</td>\n",
              "    </tr>\n",
              "    <tr>\n",
              "      <th>112</th>\n",
              "      <td>6.8</td>\n",
              "      <td>3.0</td>\n",
              "      <td>5.5</td>\n",
              "      <td>2.1</td>\n",
              "      <td>Iris-virginica</td>\n",
              "    </tr>\n",
              "  </tbody>\n",
              "</table>\n",
              "</div>\n",
              "      <button class=\"colab-df-convert\" onclick=\"convertToInteractive('df-92cd637a-e751-469b-a11a-3a2986c4d5a4')\"\n",
              "              title=\"Convert this dataframe to an interactive table.\"\n",
              "              style=\"display:none;\">\n",
              "        \n",
              "  <svg xmlns=\"http://www.w3.org/2000/svg\" height=\"24px\"viewBox=\"0 0 24 24\"\n",
              "       width=\"24px\">\n",
              "    <path d=\"M0 0h24v24H0V0z\" fill=\"none\"/>\n",
              "    <path d=\"M18.56 5.44l.94 2.06.94-2.06 2.06-.94-2.06-.94-.94-2.06-.94 2.06-2.06.94zm-11 1L8.5 8.5l.94-2.06 2.06-.94-2.06-.94L8.5 2.5l-.94 2.06-2.06.94zm10 10l.94 2.06.94-2.06 2.06-.94-2.06-.94-.94-2.06-.94 2.06-2.06.94z\"/><path d=\"M17.41 7.96l-1.37-1.37c-.4-.4-.92-.59-1.43-.59-.52 0-1.04.2-1.43.59L10.3 9.45l-7.72 7.72c-.78.78-.78 2.05 0 2.83L4 21.41c.39.39.9.59 1.41.59.51 0 1.02-.2 1.41-.59l7.78-7.78 2.81-2.81c.8-.78.8-2.07 0-2.86zM5.41 20L4 18.59l7.72-7.72 1.47 1.35L5.41 20z\"/>\n",
              "  </svg>\n",
              "      </button>\n",
              "      \n",
              "  <style>\n",
              "    .colab-df-container {\n",
              "      display:flex;\n",
              "      flex-wrap:wrap;\n",
              "      gap: 12px;\n",
              "    }\n",
              "\n",
              "    .colab-df-convert {\n",
              "      background-color: #E8F0FE;\n",
              "      border: none;\n",
              "      border-radius: 50%;\n",
              "      cursor: pointer;\n",
              "      display: none;\n",
              "      fill: #1967D2;\n",
              "      height: 32px;\n",
              "      padding: 0 0 0 0;\n",
              "      width: 32px;\n",
              "    }\n",
              "\n",
              "    .colab-df-convert:hover {\n",
              "      background-color: #E2EBFA;\n",
              "      box-shadow: 0px 1px 2px rgba(60, 64, 67, 0.3), 0px 1px 3px 1px rgba(60, 64, 67, 0.15);\n",
              "      fill: #174EA6;\n",
              "    }\n",
              "\n",
              "    [theme=dark] .colab-df-convert {\n",
              "      background-color: #3B4455;\n",
              "      fill: #D2E3FC;\n",
              "    }\n",
              "\n",
              "    [theme=dark] .colab-df-convert:hover {\n",
              "      background-color: #434B5C;\n",
              "      box-shadow: 0px 1px 3px 1px rgba(0, 0, 0, 0.15);\n",
              "      filter: drop-shadow(0px 1px 2px rgba(0, 0, 0, 0.3));\n",
              "      fill: #FFFFFF;\n",
              "    }\n",
              "  </style>\n",
              "\n",
              "      <script>\n",
              "        const buttonEl =\n",
              "          document.querySelector('#df-92cd637a-e751-469b-a11a-3a2986c4d5a4 button.colab-df-convert');\n",
              "        buttonEl.style.display =\n",
              "          google.colab.kernel.accessAllowed ? 'block' : 'none';\n",
              "\n",
              "        async function convertToInteractive(key) {\n",
              "          const element = document.querySelector('#df-92cd637a-e751-469b-a11a-3a2986c4d5a4');\n",
              "          const dataTable =\n",
              "            await google.colab.kernel.invokeFunction('convertToInteractive',\n",
              "                                                     [key], {});\n",
              "          if (!dataTable) return;\n",
              "\n",
              "          const docLinkHtml = 'Like what you see? Visit the ' +\n",
              "            '<a target=\"_blank\" href=https://colab.research.google.com/notebooks/data_table.ipynb>data table notebook</a>'\n",
              "            + ' to learn more about interactive tables.';\n",
              "          element.innerHTML = '';\n",
              "          dataTable['output_type'] = 'display_data';\n",
              "          await google.colab.output.renderOutput(dataTable, element);\n",
              "          const docLink = document.createElement('div');\n",
              "          docLink.innerHTML = docLinkHtml;\n",
              "          element.appendChild(docLink);\n",
              "        }\n",
              "      </script>\n",
              "    </div>\n",
              "  </div>\n",
              "  "
            ]
          },
          "metadata": {},
          "execution_count": 21
        }
      ]
    },
    {
      "cell_type": "code",
      "source": [
        "# take a look at the training_data\n",
        "print(\"training data shape:\", train_data.shape)\n",
        "train_data.head()"
      ],
      "metadata": {
        "id": "-9ve9NcHKO95",
        "outputId": "15540c5f-7ea5-43da-f179-7344b22dee19",
        "colab": {
          "base_uri": "https://localhost:8080/",
          "height": 224
        }
      },
      "execution_count": 22,
      "outputs": [
        {
          "output_type": "stream",
          "name": "stdout",
          "text": [
            "training data shape: (130, 5)\n"
          ]
        },
        {
          "output_type": "execute_result",
          "data": {
            "text/plain": [
              "     sepal length  sepal width  petal length  petal width          species\n",
              "81            5.5          2.4           3.7          1.0  Iris-versicolor\n",
              "120           6.9          3.2           5.7          2.3   Iris-virginica\n",
              "43            5.0          3.5           1.6          0.6      Iris-setosa\n",
              "2             4.7          3.2           1.3          0.2      Iris-setosa\n",
              "64            5.6          2.9           3.6          1.3  Iris-versicolor"
            ],
            "text/html": [
              "\n",
              "  <div id=\"df-c0ea5ed0-7857-4250-8266-07bd424b738d\">\n",
              "    <div class=\"colab-df-container\">\n",
              "      <div>\n",
              "<style scoped>\n",
              "    .dataframe tbody tr th:only-of-type {\n",
              "        vertical-align: middle;\n",
              "    }\n",
              "\n",
              "    .dataframe tbody tr th {\n",
              "        vertical-align: top;\n",
              "    }\n",
              "\n",
              "    .dataframe thead th {\n",
              "        text-align: right;\n",
              "    }\n",
              "</style>\n",
              "<table border=\"1\" class=\"dataframe\">\n",
              "  <thead>\n",
              "    <tr style=\"text-align: right;\">\n",
              "      <th></th>\n",
              "      <th>sepal length</th>\n",
              "      <th>sepal width</th>\n",
              "      <th>petal length</th>\n",
              "      <th>petal width</th>\n",
              "      <th>species</th>\n",
              "    </tr>\n",
              "  </thead>\n",
              "  <tbody>\n",
              "    <tr>\n",
              "      <th>81</th>\n",
              "      <td>5.5</td>\n",
              "      <td>2.4</td>\n",
              "      <td>3.7</td>\n",
              "      <td>1.0</td>\n",
              "      <td>Iris-versicolor</td>\n",
              "    </tr>\n",
              "    <tr>\n",
              "      <th>120</th>\n",
              "      <td>6.9</td>\n",
              "      <td>3.2</td>\n",
              "      <td>5.7</td>\n",
              "      <td>2.3</td>\n",
              "      <td>Iris-virginica</td>\n",
              "    </tr>\n",
              "    <tr>\n",
              "      <th>43</th>\n",
              "      <td>5.0</td>\n",
              "      <td>3.5</td>\n",
              "      <td>1.6</td>\n",
              "      <td>0.6</td>\n",
              "      <td>Iris-setosa</td>\n",
              "    </tr>\n",
              "    <tr>\n",
              "      <th>2</th>\n",
              "      <td>4.7</td>\n",
              "      <td>3.2</td>\n",
              "      <td>1.3</td>\n",
              "      <td>0.2</td>\n",
              "      <td>Iris-setosa</td>\n",
              "    </tr>\n",
              "    <tr>\n",
              "      <th>64</th>\n",
              "      <td>5.6</td>\n",
              "      <td>2.9</td>\n",
              "      <td>3.6</td>\n",
              "      <td>1.3</td>\n",
              "      <td>Iris-versicolor</td>\n",
              "    </tr>\n",
              "  </tbody>\n",
              "</table>\n",
              "</div>\n",
              "      <button class=\"colab-df-convert\" onclick=\"convertToInteractive('df-c0ea5ed0-7857-4250-8266-07bd424b738d')\"\n",
              "              title=\"Convert this dataframe to an interactive table.\"\n",
              "              style=\"display:none;\">\n",
              "        \n",
              "  <svg xmlns=\"http://www.w3.org/2000/svg\" height=\"24px\"viewBox=\"0 0 24 24\"\n",
              "       width=\"24px\">\n",
              "    <path d=\"M0 0h24v24H0V0z\" fill=\"none\"/>\n",
              "    <path d=\"M18.56 5.44l.94 2.06.94-2.06 2.06-.94-2.06-.94-.94-2.06-.94 2.06-2.06.94zm-11 1L8.5 8.5l.94-2.06 2.06-.94-2.06-.94L8.5 2.5l-.94 2.06-2.06.94zm10 10l.94 2.06.94-2.06 2.06-.94-2.06-.94-.94-2.06-.94 2.06-2.06.94z\"/><path d=\"M17.41 7.96l-1.37-1.37c-.4-.4-.92-.59-1.43-.59-.52 0-1.04.2-1.43.59L10.3 9.45l-7.72 7.72c-.78.78-.78 2.05 0 2.83L4 21.41c.39.39.9.59 1.41.59.51 0 1.02-.2 1.41-.59l7.78-7.78 2.81-2.81c.8-.78.8-2.07 0-2.86zM5.41 20L4 18.59l7.72-7.72 1.47 1.35L5.41 20z\"/>\n",
              "  </svg>\n",
              "      </button>\n",
              "      \n",
              "  <style>\n",
              "    .colab-df-container {\n",
              "      display:flex;\n",
              "      flex-wrap:wrap;\n",
              "      gap: 12px;\n",
              "    }\n",
              "\n",
              "    .colab-df-convert {\n",
              "      background-color: #E8F0FE;\n",
              "      border: none;\n",
              "      border-radius: 50%;\n",
              "      cursor: pointer;\n",
              "      display: none;\n",
              "      fill: #1967D2;\n",
              "      height: 32px;\n",
              "      padding: 0 0 0 0;\n",
              "      width: 32px;\n",
              "    }\n",
              "\n",
              "    .colab-df-convert:hover {\n",
              "      background-color: #E2EBFA;\n",
              "      box-shadow: 0px 1px 2px rgba(60, 64, 67, 0.3), 0px 1px 3px 1px rgba(60, 64, 67, 0.15);\n",
              "      fill: #174EA6;\n",
              "    }\n",
              "\n",
              "    [theme=dark] .colab-df-convert {\n",
              "      background-color: #3B4455;\n",
              "      fill: #D2E3FC;\n",
              "    }\n",
              "\n",
              "    [theme=dark] .colab-df-convert:hover {\n",
              "      background-color: #434B5C;\n",
              "      box-shadow: 0px 1px 3px 1px rgba(0, 0, 0, 0.15);\n",
              "      filter: drop-shadow(0px 1px 2px rgba(0, 0, 0, 0.3));\n",
              "      fill: #FFFFFF;\n",
              "    }\n",
              "  </style>\n",
              "\n",
              "      <script>\n",
              "        const buttonEl =\n",
              "          document.querySelector('#df-c0ea5ed0-7857-4250-8266-07bd424b738d button.colab-df-convert');\n",
              "        buttonEl.style.display =\n",
              "          google.colab.kernel.accessAllowed ? 'block' : 'none';\n",
              "\n",
              "        async function convertToInteractive(key) {\n",
              "          const element = document.querySelector('#df-c0ea5ed0-7857-4250-8266-07bd424b738d');\n",
              "          const dataTable =\n",
              "            await google.colab.kernel.invokeFunction('convertToInteractive',\n",
              "                                                     [key], {});\n",
              "          if (!dataTable) return;\n",
              "\n",
              "          const docLinkHtml = 'Like what you see? Visit the ' +\n",
              "            '<a target=\"_blank\" href=https://colab.research.google.com/notebooks/data_table.ipynb>data table notebook</a>'\n",
              "            + ' to learn more about interactive tables.';\n",
              "          element.innerHTML = '';\n",
              "          dataTable['output_type'] = 'display_data';\n",
              "          await google.colab.output.renderOutput(dataTable, element);\n",
              "          const docLink = document.createElement('div');\n",
              "          docLink.innerHTML = docLinkHtml;\n",
              "          element.appendChild(docLink);\n",
              "        }\n",
              "      </script>\n",
              "    </div>\n",
              "  </div>\n",
              "  "
            ]
          },
          "metadata": {},
          "execution_count": 22
        }
      ]
    },
    {
      "cell_type": "code",
      "metadata": {
        "id": "LFWmCEvKhFyu"
      },
      "source": [
        "def classify_kNN(new_example,train_data,k):\n",
        "    # outputs the most commonly-occuring (mode) species of the closeset k training examples \n",
        "    # designed to work on the iris data set\n",
        "    train_data_copy = train_data.copy() #use a copy of the training set just so we don't mess up the original\n",
        "    train_data_copy['distance_to_new'] = numpy.sqrt(\n",
        "        (new_example['petal length']-train_data_copy['petal length'])**2\n",
        "        +(new_example['sepal length']-train_data_copy['sepal length'])**2\n",
        "        +(new_example['petal width']-train_data_copy['petal width'])**2\n",
        "        +(new_example['sepal width']-train_data_copy['sepal width'])**2)\n",
        "    sorted_data = train_data_copy.sort_values(['distance_to_new'])\n",
        "    #mode() will return most common thing in the closest k examples in the sorted dataframe; iloc will get the actual string of the species\n",
        "    prediction = sorted_data.iloc[0:k]['species'].mode().iloc[0] \n",
        "    return prediction"
      ],
      "execution_count": 23,
      "outputs": []
    },
    {
      "cell_type": "code",
      "metadata": {
        "id": "vmkVTsxPhW5f"
      },
      "source": [
        "def accuracy(actual,predicted):\n",
        "    # INPUT: \n",
        "    #   actual: a list of values\n",
        "    #   predicted: a list of value\n",
        "    #   (we assume that number of elements in actual and predicted match)\n",
        "    # OUTPUT: \n",
        "    #   the percentage in which predicted & actual values match\n",
        "    num_correct = 0\n",
        "    for i in range(len(actual)):\n",
        "      if actual.iloc[i] == predicted.iloc[i]:\n",
        "        num_correct +=1\n",
        "    frac_correct = num_correct/len(actual)\n",
        "    return frac_correct"
      ],
      "execution_count": 24,
      "outputs": []
    },
    {
      "cell_type": "code",
      "metadata": {
        "id": "Vj5WQfWlha-K"
      },
      "source": [
        "def classify_all_kNN(test_data, train_data, k):\n",
        "  results = []\n",
        "  for i in range(len(test_data)):\n",
        "    prediction = classify_kNN(test_data.iloc[i], train_data, k)\n",
        "    results.append(prediction)\n",
        "  return pandas.Series(results)\n",
        "    # INPUT:\n",
        "    #   test_data: a dataframe of the testing data set\n",
        "    #   train_data: a dataframe of the training data set\n",
        "    #   k: an integer\n",
        "    # OUTPUT:\n",
        "    #   a pandas.Series of the predicted results\n",
        "    # for each item in the test_data list, apply the classify_kNN function (also passing the train_data and k)\n",
        "    # return a pandas.Series of the predicted results\n",
        "   # print(\"Exercise #2 --- YOUR CODE HERE\")\n"
      ],
      "execution_count": 27,
      "outputs": []
    },
    {
      "cell_type": "code",
      "metadata": {
        "id": "ml7mBuNYhfXn",
        "outputId": "551b82fb-fe5a-4a28-9c02-f631e4c23d91",
        "colab": {
          "base_uri": "https://localhost:8080/"
        }
      },
      "source": [
        "# get a list of predictions using 5-NN\n",
        "predictions5NN = classify_all_kNN(test_data,train_data,5)\n",
        "\n",
        "# print out the ACTUAL vs. PREDICTIONS for our testing data\n",
        "print('ACTUAL\\t\\tPREDICTIONS')\n",
        "for i in range(len(test_data)):\n",
        "    print(test_data['species'].iloc[i], \"---\", predictions5NN.iloc[i] )\n",
        "\n",
        "# print out the accuracy...\n",
        "acc = accuracy(test_data['species'],predictions5NN)\n",
        "print(\"accuracy:\", acc)"
      ],
      "execution_count": 28,
      "outputs": [
        {
          "output_type": "stream",
          "name": "stdout",
          "text": [
            "ACTUAL\t\tPREDICTIONS\n",
            "Iris-virginica --- Iris-virginica\n",
            "Iris-virginica --- Iris-virginica\n",
            "Iris-virginica --- Iris-virginica\n",
            "Iris-versicolor --- Iris-versicolor\n",
            "Iris-virginica --- Iris-virginica\n",
            "Iris-versicolor --- Iris-versicolor\n",
            "Iris-virginica --- Iris-virginica\n",
            "Iris-versicolor --- Iris-versicolor\n",
            "Iris-virginica --- Iris-virginica\n",
            "Iris-virginica --- Iris-virginica\n",
            "Iris-virginica --- Iris-virginica\n",
            "Iris-setosa --- Iris-setosa\n",
            "Iris-setosa --- Iris-setosa\n",
            "Iris-versicolor --- Iris-versicolor\n",
            "Iris-setosa --- Iris-setosa\n",
            "Iris-virginica --- Iris-versicolor\n",
            "Iris-setosa --- Iris-setosa\n",
            "Iris-versicolor --- Iris-virginica\n",
            "Iris-setosa --- Iris-setosa\n",
            "Iris-setosa --- Iris-setosa\n",
            "accuracy: 0.9\n"
          ]
        }
      ]
    },
    {
      "cell_type": "code",
      "metadata": {
        "id": "vF6mj584hiA4"
      },
      "source": [
        "import matplotlib.pyplot as plt\n",
        "%matplotlib inline\n",
        "\n",
        "#reload the data\n",
        "data = pandas.read_csv('/content/drive/MyDrive/CS167Fall22/Datasets/irisData.csv')\n",
        "\n",
        "shuffled_data = data.sample(frac=1, random_state = 41)\n",
        "\n",
        "# create test and training data sets\n",
        "test_data = shuffled_data.iloc[0:20]\n",
        "train_data = shuffled_data.iloc[20:]\n",
        "\n",
        "# explore different values of k\n",
        "k_vals = [1,3,5]\n",
        "kNN_accuracies = []\n",
        "\n",
        "for k in k_vals:\n",
        "    predictions = classify_all_kNN(test_data,train_data,k)\n",
        "    current_accuracy = accuracy(test_data['species'],predictions)\n",
        "    kNN_accuracies.append(current_accuracy)\n",
        "\n",
        "\n",
        "plt.suptitle('Iris Data k-NN Experiment',fontsize=18)\n",
        "plt.xlabel('k')\n",
        "plt.ylabel('accuracy')\n",
        "plt.plot(k_vals,kNN_accuracies,'ro-',label='k-NN')\n",
        "plt.legend(loc='lower left', shadow=True)\n",
        "plt.axis([0,10,0,1])\n",
        "\n",
        "plt.show()"
      ],
      "execution_count": null,
      "outputs": []
    },
    {
      "cell_type": "markdown",
      "source": [
        "# exercise #3:\n",
        "To Do:\n",
        "- add more points: add multiple values of k to the graph \n",
        "- explain the phenomenon that you observe"
      ],
      "metadata": {
        "id": "RnKyVbbSQ9_c"
      }
    }
  ]
}