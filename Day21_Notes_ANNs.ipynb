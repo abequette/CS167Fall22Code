{
  "nbformat": 4,
  "nbformat_minor": 0,
  "metadata": {
    "colab": {
      "provenance": [],
      "include_colab_link": true
    },
    "kernelspec": {
      "name": "python3",
      "display_name": "Python 3"
    },
    "language_info": {
      "name": "python"
    },
    "gpuClass": "standard",
    "accelerator": "GPU"
  },
  "cells": [
    {
      "cell_type": "markdown",
      "metadata": {
        "id": "view-in-github",
        "colab_type": "text"
      },
      "source": [
        "<a href=\"https://colab.research.google.com/github/abequette/CS167Fall22Code/blob/main/Day21_Notes_ANNs.ipynb\" target=\"_parent\"><img src=\"https://colab.research.google.com/assets/colab-badge.svg\" alt=\"Open In Colab\"/></a>"
      ]
    },
    {
      "cell_type": "markdown",
      "metadata": {
        "id": "-PSKyhdVBMBP"
      },
      "source": [
        "# Day 21 Code: Artificial Neural Networks\n",
        "\n",
        "We're going to start off by using sklearn MLP to implement a multilayer perceptron, and then we're going to use a deep learning framework, Tensorflow with Keras to build a neural network. "
      ]
    },
    {
      "cell_type": "code",
      "metadata": {
        "id": "PlQnxuSxBGwV",
        "outputId": "ba5781ca-d405-46c3-f52d-fea7abd99b66",
        "colab": {
          "base_uri": "https://localhost:8080/"
        }
      },
      "source": [
        "from google.colab import drive\n",
        "import pandas\n",
        "drive.mount('/content/drive')"
      ],
      "execution_count": 1,
      "outputs": [
        {
          "output_type": "stream",
          "name": "stdout",
          "text": [
            "Mounted at /content/drive\n"
          ]
        }
      ]
    },
    {
      "cell_type": "code",
      "metadata": {
        "id": "JYGVt9K5DcjG",
        "outputId": "d9b54044-f920-411b-a1e4-88005987bdb9",
        "colab": {
          "base_uri": "https://localhost:8080/",
          "height": 206
        }
      },
      "source": [
        "data = pandas.read_csv('/content/drive/MyDrive/CS167/irisData.csv')\n",
        "data.head()"
      ],
      "execution_count": 2,
      "outputs": [
        {
          "output_type": "execute_result",
          "data": {
            "text/plain": [
              "   sepal length  sepal width  petal length  petal width      species\n",
              "0           5.1          3.5           1.4          0.2  Iris-setosa\n",
              "1           4.9          3.0           1.4          0.2  Iris-setosa\n",
              "2           4.7          3.2           1.3          0.2  Iris-setosa\n",
              "3           4.6          3.1           1.5          0.2  Iris-setosa\n",
              "4           5.0          3.6           1.4          0.2  Iris-setosa"
            ],
            "text/html": [
              "\n",
              "  <div id=\"df-abf51ff3-225a-4ce8-bdf7-1de07681f921\">\n",
              "    <div class=\"colab-df-container\">\n",
              "      <div>\n",
              "<style scoped>\n",
              "    .dataframe tbody tr th:only-of-type {\n",
              "        vertical-align: middle;\n",
              "    }\n",
              "\n",
              "    .dataframe tbody tr th {\n",
              "        vertical-align: top;\n",
              "    }\n",
              "\n",
              "    .dataframe thead th {\n",
              "        text-align: right;\n",
              "    }\n",
              "</style>\n",
              "<table border=\"1\" class=\"dataframe\">\n",
              "  <thead>\n",
              "    <tr style=\"text-align: right;\">\n",
              "      <th></th>\n",
              "      <th>sepal length</th>\n",
              "      <th>sepal width</th>\n",
              "      <th>petal length</th>\n",
              "      <th>petal width</th>\n",
              "      <th>species</th>\n",
              "    </tr>\n",
              "  </thead>\n",
              "  <tbody>\n",
              "    <tr>\n",
              "      <th>0</th>\n",
              "      <td>5.1</td>\n",
              "      <td>3.5</td>\n",
              "      <td>1.4</td>\n",
              "      <td>0.2</td>\n",
              "      <td>Iris-setosa</td>\n",
              "    </tr>\n",
              "    <tr>\n",
              "      <th>1</th>\n",
              "      <td>4.9</td>\n",
              "      <td>3.0</td>\n",
              "      <td>1.4</td>\n",
              "      <td>0.2</td>\n",
              "      <td>Iris-setosa</td>\n",
              "    </tr>\n",
              "    <tr>\n",
              "      <th>2</th>\n",
              "      <td>4.7</td>\n",
              "      <td>3.2</td>\n",
              "      <td>1.3</td>\n",
              "      <td>0.2</td>\n",
              "      <td>Iris-setosa</td>\n",
              "    </tr>\n",
              "    <tr>\n",
              "      <th>3</th>\n",
              "      <td>4.6</td>\n",
              "      <td>3.1</td>\n",
              "      <td>1.5</td>\n",
              "      <td>0.2</td>\n",
              "      <td>Iris-setosa</td>\n",
              "    </tr>\n",
              "    <tr>\n",
              "      <th>4</th>\n",
              "      <td>5.0</td>\n",
              "      <td>3.6</td>\n",
              "      <td>1.4</td>\n",
              "      <td>0.2</td>\n",
              "      <td>Iris-setosa</td>\n",
              "    </tr>\n",
              "  </tbody>\n",
              "</table>\n",
              "</div>\n",
              "      <button class=\"colab-df-convert\" onclick=\"convertToInteractive('df-abf51ff3-225a-4ce8-bdf7-1de07681f921')\"\n",
              "              title=\"Convert this dataframe to an interactive table.\"\n",
              "              style=\"display:none;\">\n",
              "        \n",
              "  <svg xmlns=\"http://www.w3.org/2000/svg\" height=\"24px\"viewBox=\"0 0 24 24\"\n",
              "       width=\"24px\">\n",
              "    <path d=\"M0 0h24v24H0V0z\" fill=\"none\"/>\n",
              "    <path d=\"M18.56 5.44l.94 2.06.94-2.06 2.06-.94-2.06-.94-.94-2.06-.94 2.06-2.06.94zm-11 1L8.5 8.5l.94-2.06 2.06-.94-2.06-.94L8.5 2.5l-.94 2.06-2.06.94zm10 10l.94 2.06.94-2.06 2.06-.94-2.06-.94-.94-2.06-.94 2.06-2.06.94z\"/><path d=\"M17.41 7.96l-1.37-1.37c-.4-.4-.92-.59-1.43-.59-.52 0-1.04.2-1.43.59L10.3 9.45l-7.72 7.72c-.78.78-.78 2.05 0 2.83L4 21.41c.39.39.9.59 1.41.59.51 0 1.02-.2 1.41-.59l7.78-7.78 2.81-2.81c.8-.78.8-2.07 0-2.86zM5.41 20L4 18.59l7.72-7.72 1.47 1.35L5.41 20z\"/>\n",
              "  </svg>\n",
              "      </button>\n",
              "      \n",
              "  <style>\n",
              "    .colab-df-container {\n",
              "      display:flex;\n",
              "      flex-wrap:wrap;\n",
              "      gap: 12px;\n",
              "    }\n",
              "\n",
              "    .colab-df-convert {\n",
              "      background-color: #E8F0FE;\n",
              "      border: none;\n",
              "      border-radius: 50%;\n",
              "      cursor: pointer;\n",
              "      display: none;\n",
              "      fill: #1967D2;\n",
              "      height: 32px;\n",
              "      padding: 0 0 0 0;\n",
              "      width: 32px;\n",
              "    }\n",
              "\n",
              "    .colab-df-convert:hover {\n",
              "      background-color: #E2EBFA;\n",
              "      box-shadow: 0px 1px 2px rgba(60, 64, 67, 0.3), 0px 1px 3px 1px rgba(60, 64, 67, 0.15);\n",
              "      fill: #174EA6;\n",
              "    }\n",
              "\n",
              "    [theme=dark] .colab-df-convert {\n",
              "      background-color: #3B4455;\n",
              "      fill: #D2E3FC;\n",
              "    }\n",
              "\n",
              "    [theme=dark] .colab-df-convert:hover {\n",
              "      background-color: #434B5C;\n",
              "      box-shadow: 0px 1px 3px 1px rgba(0, 0, 0, 0.15);\n",
              "      filter: drop-shadow(0px 1px 2px rgba(0, 0, 0, 0.3));\n",
              "      fill: #FFFFFF;\n",
              "    }\n",
              "  </style>\n",
              "\n",
              "      <script>\n",
              "        const buttonEl =\n",
              "          document.querySelector('#df-abf51ff3-225a-4ce8-bdf7-1de07681f921 button.colab-df-convert');\n",
              "        buttonEl.style.display =\n",
              "          google.colab.kernel.accessAllowed ? 'block' : 'none';\n",
              "\n",
              "        async function convertToInteractive(key) {\n",
              "          const element = document.querySelector('#df-abf51ff3-225a-4ce8-bdf7-1de07681f921');\n",
              "          const dataTable =\n",
              "            await google.colab.kernel.invokeFunction('convertToInteractive',\n",
              "                                                     [key], {});\n",
              "          if (!dataTable) return;\n",
              "\n",
              "          const docLinkHtml = 'Like what you see? Visit the ' +\n",
              "            '<a target=\"_blank\" href=https://colab.research.google.com/notebooks/data_table.ipynb>data table notebook</a>'\n",
              "            + ' to learn more about interactive tables.';\n",
              "          element.innerHTML = '';\n",
              "          dataTable['output_type'] = 'display_data';\n",
              "          await google.colab.output.renderOutput(dataTable, element);\n",
              "          const docLink = document.createElement('div');\n",
              "          docLink.innerHTML = docLinkHtml;\n",
              "          element.appendChild(docLink);\n",
              "        }\n",
              "      </script>\n",
              "    </div>\n",
              "  </div>\n",
              "  "
            ]
          },
          "metadata": {},
          "execution_count": 2
        }
      ]
    },
    {
      "cell_type": "code",
      "metadata": {
        "id": "IPcbE8vaBLJW"
      },
      "source": [
        "import pandas\n",
        "import numpy\n",
        "from sklearn.model_selection import train_test_split\n",
        "\n",
        "#Split the dataset\n",
        "predictors = data.columns.drop('species')\n",
        "target = \"species\"\n",
        "train_data, test_data, train_sln, test_sln = train_test_split(data[predictors], data[target], test_size = 0.2, random_state=41)\n",
        "\n",
        "#Normalize Data\n",
        "from sklearn.preprocessing import StandardScaler\n",
        "scaler = StandardScaler()\n",
        "scaler.fit(train_data)\n",
        "train_data_norm = scaler.transform(train_data)\n",
        "test_data_norm = scaler.transform(test_data)\n"
      ],
      "execution_count": 3,
      "outputs": []
    },
    {
      "cell_type": "markdown",
      "metadata": {
        "id": "fOm5Qh1_BzVx"
      },
      "source": [
        "## Build out a Multilayer Perceptron using Scikit-Learn:\n",
        "Here are the links to the documentation: \n",
        "- [sklearn.neural_network.MLPRegressor](https://scikit-learn.org/stable/modules/generated/sklearn.neural_network.MLPRegressor.html)\n",
        "- [sklearn.neural_network.MLPClassifier](https://scikit-learn.org/stable/modules/generated/sklearn.neural_network.MLPClassifier.html)\n"
      ]
    },
    {
      "cell_type": "code",
      "metadata": {
        "id": "u63K8A1mBhOS",
        "outputId": "9b22fc3f-b6a4-42ff-c19e-28ad1f91e0b7",
        "colab": {
          "base_uri": "https://localhost:8080/"
        }
      },
      "source": [
        "# Set up MLP\n",
        "from sklearn.neural_network import MLPClassifier\n",
        "from sklearn import metrics\n",
        "from sklearn.metrics import confusion_matrix\n",
        "\n",
        "mlp = MLPClassifier(random_state=0,hidden_layer_sizes = (100,), max_iter = 800)\n",
        "mlp.fit(train_data_norm,train_sln)\n",
        "predictions = mlp.predict(test_data_norm)\n",
        "\n",
        "print(\"Accuracy: \", metrics.accuracy_score(test_sln,predictions))\n",
        "\n",
        "# Confusion Matrix\n",
        "vals = data[target].unique() ## possible classification values (species)\n",
        "conf_mat = metrics.confusion_matrix(test_sln, predictions, labels=vals)\n",
        "print(pandas.DataFrame(conf_mat, index = \"True \" + vals, columns = \"Pre \" + vals))"
      ],
      "execution_count": 4,
      "outputs": [
        {
          "output_type": "stream",
          "name": "stdout",
          "text": [
            "Accuracy:  0.9\n",
            "                      Pre Iris-setosa  Pre Iris-versicolor  Pre Iris-virginica\n",
            "True Iris-setosa                    8                    1                   0\n",
            "True Iris-versicolor                0                   10                   1\n",
            "True Iris-virginica                 0                    1                   9\n"
          ]
        }
      ]
    },
    {
      "cell_type": "markdown",
      "metadata": {
        "id": "o7QVdyQfDLqZ"
      },
      "source": [
        "## In-Class Exercise:\n",
        "\n",
        "1. Read in the Boston Housing dataset\n",
        "2. Normalize your data\n",
        "3. Use a [MLPRegressor](https://scikit-learn.org/stable/modules/generated/sklearn.neural_network.MLPRegressor.html) to predict the price of a house 'MEDV'\n",
        "4. Play around with changing the parameters, see what the best R2 score you can get is. \n"
      ]
    },
    {
      "cell_type": "code",
      "metadata": {
        "id": "uR0BTwTgBucW"
      },
      "source": [
        "# Your code goes here for the In-Class Exercise\n",
        "# 1. Read in the Boston Housing dataset\n",
        "import pandas\n",
        "housing_data = pandas.read_csv('/content/drive/MyDrive/CS167/HousingData.csv') \n",
        "\n",
        "# clean the data\n",
        "housing_data['CRIM'].fillna(housing_data['CRIM'].mean(),inplace=True)\n",
        "housing_data['ZN'].fillna(housing_data['ZN'].mean(),inplace=True)\n",
        "housing_data['INDUS'].fillna(housing_data['INDUS'].mean(),inplace=True)\n",
        "housing_data['CHAS'].fillna(housing_data['CHAS'].mean(),inplace=True)\n",
        "housing_data['AGE'].fillna(housing_data['AGE'].mean(),inplace=True)\n",
        "housing_data['LSTAT'].fillna(housing_data['LSTAT'].mean(),inplace=True)\n",
        "\n",
        "#Split the dataset\n",
        "predictors = housing_data.columns.drop('MEDV')\n",
        "target = \"MEDV\"\n",
        "train_data, test_data, train_sln, test_sln = train_test_split(housing_data[predictors], housing_data[target], test_size = 0.2, random_state=0)\n",
        "\n"
      ],
      "execution_count": 6,
      "outputs": []
    },
    {
      "cell_type": "code",
      "source": [
        "#2. Normalize the data\n",
        "from sklearn.preprocessing import StandardScaler\n",
        "scaler = StandardScaler()\n",
        "scaler.fit(train_data)\n",
        "train_data_normalized = scaler.transform(train_data)\n",
        "test_data_normalized = scaler.transform(test_data)"
      ],
      "metadata": {
        "id": "vK2oOmSWwACn"
      },
      "execution_count": 7,
      "outputs": []
    },
    {
      "cell_type": "code",
      "source": [
        "#3. Use a MLPRegressor to predict the price of a house 'MEDV'\n",
        "from sklearn.neural_network import MLPRegressor\n",
        "from sklearn import metrics\n",
        "\n",
        "mlp = MLPRegressor(random_state=0)\n",
        "mlp.fit(train_data_normalized,train_sln)\n",
        "predictions = mlp.predict(test_data_normalized)\n",
        "\n",
        "print(\"MLP Regression R2:\", metrics.r2_score(test_sln, predictions))\n"
      ],
      "metadata": {
        "colab": {
          "base_uri": "https://localhost:8080/"
        },
        "id": "_SfZHnGRwK8N",
        "outputId": "3c72b76d-e21b-4144-b88c-cc5b9670c1a9"
      },
      "execution_count": 8,
      "outputs": [
        {
          "output_type": "stream",
          "name": "stdout",
          "text": [
            "MLP Regression R2: 0.49660446847147843\n"
          ]
        },
        {
          "output_type": "stream",
          "name": "stderr",
          "text": [
            "/usr/local/lib/python3.7/dist-packages/sklearn/neural_network/_multilayer_perceptron.py:696: ConvergenceWarning: Stochastic Optimizer: Maximum iterations (200) reached and the optimization hasn't converged yet.\n",
            "  ConvergenceWarning,\n"
          ]
        }
      ]
    },
    {
      "cell_type": "code",
      "source": [
        "#4. Play around with the parameters\n",
        "mlp = MLPRegressor(random_state=0, hidden_layer_sizes=(100,), max_iter = 500)\n",
        "mlp.fit(train_data_normalized,train_sln)\n",
        "predictions = mlp.predict(test_data_normalized)\n",
        "\n",
        "print(\"MLP Regression R2:\", metrics.r2_score(test_sln, predictions))"
      ],
      "metadata": {
        "id": "dx1E-7_1xL6u",
        "outputId": "0272b9d3-6b23-482f-ed52-390dc6c66e85",
        "colab": {
          "base_uri": "https://localhost:8080/"
        }
      },
      "execution_count": 21,
      "outputs": [
        {
          "output_type": "stream",
          "name": "stdout",
          "text": [
            "MLP Regression R2: 0.693869049915123\n"
          ]
        },
        {
          "output_type": "stream",
          "name": "stderr",
          "text": [
            "/usr/local/lib/python3.7/dist-packages/sklearn/neural_network/_multilayer_perceptron.py:696: ConvergenceWarning: Stochastic Optimizer: Maximum iterations (500) reached and the optimization hasn't converged yet.\n",
            "  ConvergenceWarning,\n"
          ]
        }
      ]
    },
    {
      "cell_type": "markdown",
      "metadata": {
        "id": "QaB9j0ZcdaDd"
      },
      "source": [
        "# Introducing Deep Learning Frameworks\n",
        "\n",
        "Go ahead and go up to 'Runtime', and select 'change runtime type' from the dropdown list, select 'GPU'. If you complete this step correctly, the following code should say `Found GPU at: /device:GPU:0` or something similar."
      ]
    },
    {
      "cell_type": "code",
      "metadata": {
        "id": "oVu_afildpIY",
        "outputId": "f5965efd-2711-4205-ee9e-8e96eef11120",
        "colab": {
          "base_uri": "https://localhost:8080/"
        }
      },
      "source": [
        "import tensorflow as tf\n",
        "device_name = tf.test.gpu_device_name()\n",
        "if device_name != '/device:GPU:0':\n",
        "  raise SystemError('GPU device not found')\n",
        "print('Found GPU at: {}'.format(device_name))"
      ],
      "execution_count": 1,
      "outputs": [
        {
          "output_type": "stream",
          "name": "stdout",
          "text": [
            "Found GPU at: /device:GPU:0\n"
          ]
        }
      ]
    },
    {
      "cell_type": "markdown",
      "metadata": {
        "id": "1bA6K3nymJsg"
      },
      "source": [
        "# Iris Dataset with Keras"
      ]
    },
    {
      "cell_type": "code",
      "metadata": {
        "id": "kogXVGmkmMNj"
      },
      "source": [
        "import warnings\n",
        "warnings.simplefilter(action='ignore', category=FutureWarning)\n",
        "warnings.simplefilter(action='ignore', category=DeprecationWarning)\n",
        "\n",
        "from keras.models import Sequential\n",
        "from keras.layers import Dense\n",
        "\n",
        "from sklearn.datasets import load_iris\n",
        "from sklearn.model_selection import train_test_split\n",
        "from sklearn.preprocessing import OneHotEncoder, StandardScaler\n",
        "import numpy\n",
        "\n",
        "# we're going to use the iris dataset, but load it from sklearn \n",
        "iris = load_iris()\n",
        "X = iris['data']\n",
        "y = iris['target']\n",
        "names = iris['target_names']\n",
        "feature_names = iris['feature_names']\n",
        "\n",
        "# One hot encoding\n",
        "enc = OneHotEncoder()\n",
        "Y = enc.fit_transform(y[:, numpy.newaxis]).toarray()\n",
        "\n",
        "# Split the data set into training and testing\n",
        "X_train, X_test, Y_train, Y_test = train_test_split(X, Y, test_size=0.2, random_state=2)\n",
        "\n",
        "#normalize the data\n",
        "scaler = StandardScaler()\n",
        "scaler.fit(X_train)\n",
        "X_train_norm = scaler.transform(X_train)\n",
        "X_test_norm = scaler.transform(X_test)\n",
        "\n"
      ],
      "execution_count": 2,
      "outputs": []
    },
    {
      "cell_type": "code",
      "source": [
        "# display a row of data\n",
        "print(X_train_norm[0,:])\n",
        "print(Y_train[0,:])"
      ],
      "metadata": {
        "colab": {
          "base_uri": "https://localhost:8080/"
        },
        "id": "WFCzV9zNVgs_",
        "outputId": "98642cde-4461-4dac-d133-5753eac55848"
      },
      "execution_count": 3,
      "outputs": [
        {
          "output_type": "stream",
          "name": "stdout",
          "text": [
            "[ 0.37346331 -0.58519388  0.54075378  0.74234434]\n",
            "[0. 0. 1.]\n"
          ]
        }
      ]
    },
    {
      "cell_type": "code",
      "metadata": {
        "id": "pfvZyvC5ombh",
        "outputId": "50d7271e-e100-44fd-b80b-5cccd7003fe7",
        "colab": {
          "base_uri": "https://localhost:8080/"
        }
      },
      "source": [
        "#build our neural network model\n",
        "n_features = X.shape[1] #X generally stands for our predictors\n",
        "n_classes = Y.shape[1] #Y generally stands for our target\n",
        "\n",
        "model = Sequential(name='iris_1')\n",
        "model.add(Dense(2, input_dim=n_features, activation='relu'))\n",
        "model.add(Dense(2, activation='relu'))\n",
        "model.add(Dense(n_classes, activation='softmax'))\n",
        "\n",
        "from sklearn.metrics import r2_score\n",
        "\n",
        "# Compile model\n",
        "model.compile(loss='mean_squared_error',\n",
        "              optimizer='sgd', \n",
        "              metrics=['accuracy'])\n",
        "model.summary()"
      ],
      "execution_count": 4,
      "outputs": [
        {
          "output_type": "stream",
          "name": "stdout",
          "text": [
            "Model: \"iris_1\"\n",
            "_________________________________________________________________\n",
            " Layer (type)                Output Shape              Param #   \n",
            "=================================================================\n",
            " dense (Dense)               (None, 2)                 10        \n",
            "                                                                 \n",
            " dense_1 (Dense)             (None, 2)                 6         \n",
            "                                                                 \n",
            " dense_2 (Dense)             (None, 3)                 9         \n",
            "                                                                 \n",
            "=================================================================\n",
            "Total params: 25\n",
            "Trainable params: 25\n",
            "Non-trainable params: 0\n",
            "_________________________________________________________________\n"
          ]
        }
      ]
    },
    {
      "cell_type": "markdown",
      "source": [
        "[Keras Model Training APIs](https://keras.io/api/models/model_training_apis/)\n"
      ],
      "metadata": {
        "id": "ejpdgUFBE9oq"
      }
    },
    {
      "cell_type": "code",
      "metadata": {
        "id": "n2RSJESIoH4G",
        "outputId": "fa728831-7e45-41fa-9491-4bd7326a8237",
        "colab": {
          "base_uri": "https://localhost:8080/"
        }
      },
      "source": [
        "# train the model\n",
        "model.fit(X_train_norm, Y_train, batch_size=15, epochs=5) #add verbose = 0 to make output minimal\n",
        "\n",
        "# cross-validation; make predictions and get error\n",
        "print(\"----\"*30)\n",
        "mse, acc =  model.evaluate(X_test_norm, Y_test)\n",
        "print('Mean Squared Error:',mse)\n",
        "print('Test accuracy:', acc)\n",
        "\n"
      ],
      "execution_count": 5,
      "outputs": [
        {
          "output_type": "stream",
          "name": "stdout",
          "text": [
            "Epoch 1/5\n",
            "8/8 [==============================] - 2s 3ms/step - loss: 0.2230 - accuracy: 0.2083\n",
            "Epoch 2/5\n",
            "8/8 [==============================] - 0s 2ms/step - loss: 0.2229 - accuracy: 0.1750\n",
            "Epoch 3/5\n",
            "8/8 [==============================] - 0s 2ms/step - loss: 0.2229 - accuracy: 0.2750\n",
            "Epoch 4/5\n",
            "8/8 [==============================] - 0s 2ms/step - loss: 0.2228 - accuracy: 0.2750\n",
            "Epoch 5/5\n",
            "8/8 [==============================] - 0s 2ms/step - loss: 0.2228 - accuracy: 0.2417\n",
            "------------------------------------------------------------------------------------------------------------------------\n",
            "1/1 [==============================] - 0s 124ms/step - loss: 0.2232 - accuracy: 0.2333\n",
            "Mean Squared Error: 0.22323185205459595\n",
            "Test accuracy: 0.23333333432674408\n"
          ]
        }
      ]
    },
    {
      "cell_type": "markdown",
      "metadata": {
        "id": "FW_tE14Sl8Gy"
      },
      "source": [
        "# Boston Housing Dataset with Keras\n"
      ]
    },
    {
      "cell_type": "code",
      "source": [
        "from keras.datasets import boston_housing\n",
        "\n",
        "# we're going to use the Bosting housing dataset, but load it from keras \n",
        "housing_data = boston_housing.load_data(test_split=0.2) #it comes with it's own test/train split :) \n",
        "(X_train, Y_train), (X_test, Y_test) = housing_data\n"
      ],
      "metadata": {
        "id": "4byOaffnNQ08",
        "outputId": "7c7c6807-69bf-473a-e3c8-ee4533b8d0d9",
        "colab": {
          "base_uri": "https://localhost:8080/"
        }
      },
      "execution_count": 6,
      "outputs": [
        {
          "output_type": "stream",
          "name": "stdout",
          "text": [
            "Downloading data from https://storage.googleapis.com/tensorflow/tf-keras-datasets/boston_housing.npz\n",
            "57026/57026 [==============================] - 0s 0us/step\n"
          ]
        }
      ]
    },
    {
      "cell_type": "code",
      "source": [
        "# normalize the data\n",
        "scaler = StandardScaler()\n",
        "scaler.fit(X_train)\n",
        "X_train_norm = scaler.transform(X_train)\n",
        "X_test_norm = scaler.transform(X_test)"
      ],
      "metadata": {
        "id": "zbqCzfmLPl8z"
      },
      "execution_count": 7,
      "outputs": []
    },
    {
      "cell_type": "code",
      "source": [
        "### need to execute this to get access to RSquare function\n",
        "!pip install tensorflow_addons"
      ],
      "metadata": {
        "id": "3_Uw2wAJgaN3",
        "outputId": "cef490ef-a2a1-443b-bb5d-699718e29113",
        "colab": {
          "base_uri": "https://localhost:8080/"
        }
      },
      "execution_count": 8,
      "outputs": [
        {
          "output_type": "stream",
          "name": "stdout",
          "text": [
            "Looking in indexes: https://pypi.org/simple, https://us-python.pkg.dev/colab-wheels/public/simple/\n",
            "Collecting tensorflow_addons\n",
            "  Downloading tensorflow_addons-0.18.0-cp37-cp37m-manylinux_2_17_x86_64.manylinux2014_x86_64.whl (1.1 MB)\n",
            "\u001b[K     |████████████████████████████████| 1.1 MB 36.0 MB/s \n",
            "\u001b[?25hRequirement already satisfied: packaging in /usr/local/lib/python3.7/dist-packages (from tensorflow_addons) (21.3)\n",
            "Requirement already satisfied: typeguard>=2.7 in /usr/local/lib/python3.7/dist-packages (from tensorflow_addons) (2.7.1)\n",
            "Requirement already satisfied: pyparsing!=3.0.5,>=2.0.2 in /usr/local/lib/python3.7/dist-packages (from packaging->tensorflow_addons) (3.0.9)\n",
            "Installing collected packages: tensorflow-addons\n",
            "Successfully installed tensorflow-addons-0.18.0\n"
          ]
        }
      ]
    },
    {
      "cell_type": "code",
      "source": [
        "from keras import models\n",
        "from keras import layers\n",
        "\n",
        "from tensorflow_addons.metrics import RSquare\n",
        "\n",
        "#build our model\n",
        "n_features = X_train.shape[1] # get the number of input values for the input layer\n",
        "\n",
        "model = Sequential(name='boston_housing1')   #initialize the model\n",
        "\n",
        "#add some layers. Dense is a fully connected layer\n",
        "model.add(layers.Dense(64, input_dim= n_features, activation='relu'))\n",
        "model.add(layers.Dense(64, activation='relu'))\n",
        "\n",
        "#Since we are doing a regressions, we only want one value as an ouput, so our last layer has a Dense layer with 1 neuron.\n",
        "model.add(layers.Dense(1)) #default activation function is \"linear\"\n",
        "\n",
        "from sklearn.metrics import r2_score\n",
        "# Compile model\n",
        "model.compile(loss='mean_squared_error',\n",
        "              optimizer='sgd', \n",
        "              metrics= RSquare())\n",
        "model.summary()"
      ],
      "metadata": {
        "id": "O3FLvnWWPv68",
        "outputId": "51dd3e90-8730-4d3e-ead9-38db369fa96b",
        "colab": {
          "base_uri": "https://localhost:8080/"
        }
      },
      "execution_count": 12,
      "outputs": [
        {
          "output_type": "stream",
          "name": "stdout",
          "text": [
            "Model: \"boston_housing1\"\n",
            "_________________________________________________________________\n",
            " Layer (type)                Output Shape              Param #   \n",
            "=================================================================\n",
            " dense_6 (Dense)             (None, 64)                896       \n",
            "                                                                 \n",
            " dense_7 (Dense)             (None, 64)                4160      \n",
            "                                                                 \n",
            " dense_8 (Dense)             (None, 1)                 65        \n",
            "                                                                 \n",
            "=================================================================\n",
            "Total params: 5,121\n",
            "Trainable params: 5,121\n",
            "Non-trainable params: 0\n",
            "_________________________________________________________________\n"
          ]
        }
      ]
    },
    {
      "cell_type": "code",
      "source": [
        "# train the model\n",
        "model.fit(X_train_norm, Y_train, epochs=100, batch_size=15, verbose=1)\n",
        "\n",
        "print(\"----\"*30)\n",
        "\n",
        "# cross-validation; make predictions and get error\n",
        "test_mse_score, test_r2_score = model.evaluate(X_test_norm, Y_test)\n",
        "print('MSE:', test_mse_score)\n",
        "print('r2:', test_r2_score)"
      ],
      "metadata": {
        "id": "bWl-8_qjSwbv",
        "outputId": "c66173ba-80e7-4772-d39a-96c428856793",
        "colab": {
          "base_uri": "https://localhost:8080/"
        }
      },
      "execution_count": 17,
      "outputs": [
        {
          "output_type": "stream",
          "name": "stdout",
          "text": [
            "Epoch 1/100\n",
            "27/27 [==============================] - 0s 3ms/step - loss: 6.8083 - r_square: 0.9195\n",
            "Epoch 2/100\n",
            "27/27 [==============================] - 0s 3ms/step - loss: 6.9434 - r_square: 0.9179\n",
            "Epoch 3/100\n",
            "27/27 [==============================] - 0s 5ms/step - loss: 23.3588 - r_square: 0.7240\n",
            "Epoch 4/100\n",
            "27/27 [==============================] - 0s 5ms/step - loss: 12.3452 - r_square: 0.8541\n",
            "Epoch 5/100\n",
            "27/27 [==============================] - 0s 5ms/step - loss: 11.5629 - r_square: 0.8634\n",
            "Epoch 6/100\n",
            "27/27 [==============================] - 0s 4ms/step - loss: 11.2991 - r_square: 0.8665\n",
            "Epoch 7/100\n",
            "27/27 [==============================] - 0s 4ms/step - loss: 8.1543 - r_square: 0.9036\n",
            "Epoch 8/100\n",
            "27/27 [==============================] - 0s 4ms/step - loss: 7.5952 - r_square: 0.9102\n",
            "Epoch 9/100\n",
            "27/27 [==============================] - 0s 5ms/step - loss: 8.3635 - r_square: 0.9012\n",
            "Epoch 10/100\n",
            "27/27 [==============================] - 0s 5ms/step - loss: 8.1342 - r_square: 0.9039\n",
            "Epoch 11/100\n",
            "27/27 [==============================] - 0s 5ms/step - loss: 6.7245 - r_square: 0.9205\n",
            "Epoch 12/100\n",
            "27/27 [==============================] - 0s 6ms/step - loss: 5.0834 - r_square: 0.9399\n",
            "Epoch 13/100\n",
            "27/27 [==============================] - 0s 5ms/step - loss: 7.1597 - r_square: 0.9154\n",
            "Epoch 14/100\n",
            "27/27 [==============================] - 0s 7ms/step - loss: 4.9031 - r_square: 0.9421\n",
            "Epoch 15/100\n",
            "27/27 [==============================] - 0s 7ms/step - loss: 4.9260 - r_square: 0.9418\n",
            "Epoch 16/100\n",
            "27/27 [==============================] - 0s 6ms/step - loss: 4.0426 - r_square: 0.9522\n",
            "Epoch 17/100\n",
            "27/27 [==============================] - 0s 4ms/step - loss: 4.7546 - r_square: 0.9438\n",
            "Epoch 18/100\n",
            "27/27 [==============================] - 0s 3ms/step - loss: 4.7978 - r_square: 0.9433\n",
            "Epoch 19/100\n",
            "27/27 [==============================] - 0s 3ms/step - loss: 5.7807 - r_square: 0.9317\n",
            "Epoch 20/100\n",
            "27/27 [==============================] - 0s 3ms/step - loss: 4.2101 - r_square: 0.9502\n",
            "Epoch 21/100\n",
            "27/27 [==============================] - 0s 3ms/step - loss: 3.7366 - r_square: 0.9558\n",
            "Epoch 22/100\n",
            "27/27 [==============================] - 0s 3ms/step - loss: 4.6230 - r_square: 0.9454\n",
            "Epoch 23/100\n",
            "27/27 [==============================] - 0s 3ms/step - loss: 5.4613 - r_square: 0.9355\n",
            "Epoch 24/100\n",
            "27/27 [==============================] - 0s 3ms/step - loss: 3.8418 - r_square: 0.9546\n",
            "Epoch 25/100\n",
            "27/27 [==============================] - 0s 3ms/step - loss: 4.4014 - r_square: 0.9480\n",
            "Epoch 26/100\n",
            "27/27 [==============================] - 0s 3ms/step - loss: 3.5312 - r_square: 0.9583\n",
            "Epoch 27/100\n",
            "27/27 [==============================] - 0s 3ms/step - loss: 3.5621 - r_square: 0.9579\n",
            "Epoch 28/100\n",
            "27/27 [==============================] - 0s 3ms/step - loss: 3.3008 - r_square: 0.9610\n",
            "Epoch 29/100\n",
            "27/27 [==============================] - 0s 3ms/step - loss: 4.0281 - r_square: 0.9524\n",
            "Epoch 30/100\n",
            "27/27 [==============================] - 0s 3ms/step - loss: 3.2930 - r_square: 0.9611\n",
            "Epoch 31/100\n",
            "27/27 [==============================] - 0s 3ms/step - loss: 3.6915 - r_square: 0.9564\n",
            "Epoch 32/100\n",
            "27/27 [==============================] - 0s 3ms/step - loss: 3.0581 - r_square: 0.9639\n",
            "Epoch 33/100\n",
            "27/27 [==============================] - 0s 3ms/step - loss: 3.4867 - r_square: 0.9588\n",
            "Epoch 34/100\n",
            "27/27 [==============================] - 0s 3ms/step - loss: 3.2392 - r_square: 0.9617\n",
            "Epoch 35/100\n",
            "27/27 [==============================] - 0s 3ms/step - loss: 3.2205 - r_square: 0.9619\n",
            "Epoch 36/100\n",
            "27/27 [==============================] - 0s 3ms/step - loss: 4.2740 - r_square: 0.9495\n",
            "Epoch 37/100\n",
            "27/27 [==============================] - 0s 3ms/step - loss: 3.7115 - r_square: 0.9561\n",
            "Epoch 38/100\n",
            "27/27 [==============================] - 0s 3ms/step - loss: 4.7033 - r_square: 0.9444\n",
            "Epoch 39/100\n",
            "27/27 [==============================] - 0s 3ms/step - loss: 3.3787 - r_square: 0.9601\n",
            "Epoch 40/100\n",
            "27/27 [==============================] - 0s 3ms/step - loss: 3.5582 - r_square: 0.9580\n",
            "Epoch 41/100\n",
            "27/27 [==============================] - 0s 3ms/step - loss: 4.0108 - r_square: 0.9526\n",
            "Epoch 42/100\n",
            "27/27 [==============================] - 0s 3ms/step - loss: 6.3916 - r_square: 0.9245\n",
            "Epoch 43/100\n",
            "27/27 [==============================] - 0s 3ms/step - loss: 3.5152 - r_square: 0.9585\n",
            "Epoch 44/100\n",
            "27/27 [==============================] - 0s 3ms/step - loss: 5.5949 - r_square: 0.9339\n",
            "Epoch 45/100\n",
            "27/27 [==============================] - 0s 3ms/step - loss: 4.0273 - r_square: 0.9524\n",
            "Epoch 46/100\n",
            "27/27 [==============================] - 0s 3ms/step - loss: 2.9446 - r_square: 0.9652\n",
            "Epoch 47/100\n",
            "27/27 [==============================] - 0s 3ms/step - loss: 3.2198 - r_square: 0.9620\n",
            "Epoch 48/100\n",
            "27/27 [==============================] - 0s 3ms/step - loss: 3.2125 - r_square: 0.9620\n",
            "Epoch 49/100\n",
            "27/27 [==============================] - 0s 3ms/step - loss: 3.1742 - r_square: 0.9625\n",
            "Epoch 50/100\n",
            "27/27 [==============================] - 0s 3ms/step - loss: 2.9493 - r_square: 0.9651\n",
            "Epoch 51/100\n",
            "27/27 [==============================] - 0s 3ms/step - loss: 2.7638 - r_square: 0.9673\n",
            "Epoch 52/100\n",
            "27/27 [==============================] - 0s 3ms/step - loss: 4.3690 - r_square: 0.9484\n",
            "Epoch 53/100\n",
            "27/27 [==============================] - 0s 3ms/step - loss: 3.1407 - r_square: 0.9629\n",
            "Epoch 54/100\n",
            "27/27 [==============================] - 0s 3ms/step - loss: 3.0042 - r_square: 0.9645\n",
            "Epoch 55/100\n",
            "27/27 [==============================] - 0s 3ms/step - loss: 3.2256 - r_square: 0.9619\n",
            "Epoch 56/100\n",
            "27/27 [==============================] - 0s 3ms/step - loss: 2.8268 - r_square: 0.9666\n",
            "Epoch 57/100\n",
            "27/27 [==============================] - 0s 3ms/step - loss: 2.7803 - r_square: 0.9671\n",
            "Epoch 58/100\n",
            "27/27 [==============================] - 0s 3ms/step - loss: 3.4321 - r_square: 0.9594\n",
            "Epoch 59/100\n",
            "27/27 [==============================] - 0s 3ms/step - loss: 2.5253 - r_square: 0.9702\n",
            "Epoch 60/100\n",
            "27/27 [==============================] - 0s 3ms/step - loss: 2.6841 - r_square: 0.9683\n",
            "Epoch 61/100\n",
            "27/27 [==============================] - 0s 3ms/step - loss: 3.6277 - r_square: 0.9571\n",
            "Epoch 62/100\n",
            "27/27 [==============================] - 0s 3ms/step - loss: 3.3110 - r_square: 0.9609\n",
            "Epoch 63/100\n",
            "27/27 [==============================] - 0s 3ms/step - loss: 2.9436 - r_square: 0.9652\n",
            "Epoch 64/100\n",
            "27/27 [==============================] - 0s 3ms/step - loss: 2.6637 - r_square: 0.9685\n",
            "Epoch 65/100\n",
            "27/27 [==============================] - 0s 3ms/step - loss: 2.4902 - r_square: 0.9706\n",
            "Epoch 66/100\n",
            "27/27 [==============================] - 0s 3ms/step - loss: 2.9507 - r_square: 0.9651\n",
            "Epoch 67/100\n",
            "27/27 [==============================] - 0s 3ms/step - loss: 2.8044 - r_square: 0.9669\n",
            "Epoch 68/100\n",
            "27/27 [==============================] - 0s 3ms/step - loss: 3.7473 - r_square: 0.9557\n",
            "Epoch 69/100\n",
            "27/27 [==============================] - 0s 3ms/step - loss: 2.5422 - r_square: 0.9700\n",
            "Epoch 70/100\n",
            "27/27 [==============================] - 0s 3ms/step - loss: 2.4687 - r_square: 0.9708\n",
            "Epoch 71/100\n",
            "27/27 [==============================] - 0s 3ms/step - loss: 2.9475 - r_square: 0.9652\n",
            "Epoch 72/100\n",
            "27/27 [==============================] - 0s 3ms/step - loss: 2.4494 - r_square: 0.9711\n",
            "Epoch 73/100\n",
            "27/27 [==============================] - 0s 3ms/step - loss: 2.3213 - r_square: 0.9726\n",
            "Epoch 74/100\n",
            "27/27 [==============================] - 0s 3ms/step - loss: 2.5510 - r_square: 0.9699\n",
            "Epoch 75/100\n",
            "27/27 [==============================] - 0s 3ms/step - loss: 2.5764 - r_square: 0.9696\n",
            "Epoch 76/100\n",
            "27/27 [==============================] - 0s 3ms/step - loss: 2.3856 - r_square: 0.9718\n",
            "Epoch 77/100\n",
            "27/27 [==============================] - 0s 3ms/step - loss: 2.5895 - r_square: 0.9694\n",
            "Epoch 78/100\n",
            "27/27 [==============================] - 0s 3ms/step - loss: 2.4877 - r_square: 0.9706\n",
            "Epoch 79/100\n",
            "27/27 [==============================] - 0s 3ms/step - loss: 2.4231 - r_square: 0.9714\n",
            "Epoch 80/100\n",
            "27/27 [==============================] - 0s 3ms/step - loss: 2.0831 - r_square: 0.9754\n",
            "Epoch 81/100\n",
            "27/27 [==============================] - 0s 3ms/step - loss: 2.7996 - r_square: 0.9669\n",
            "Epoch 82/100\n",
            "27/27 [==============================] - 0s 3ms/step - loss: 2.1748 - r_square: 0.9743\n",
            "Epoch 83/100\n",
            "27/27 [==============================] - 0s 3ms/step - loss: 2.1527 - r_square: 0.9746\n",
            "Epoch 84/100\n",
            "27/27 [==============================] - 0s 3ms/step - loss: 2.9430 - r_square: 0.9652\n",
            "Epoch 85/100\n",
            "27/27 [==============================] - 0s 3ms/step - loss: 2.9662 - r_square: 0.9649\n",
            "Epoch 86/100\n",
            "27/27 [==============================] - 0s 3ms/step - loss: 3.2722 - r_square: 0.9613\n",
            "Epoch 87/100\n",
            "27/27 [==============================] - 0s 3ms/step - loss: 2.7010 - r_square: 0.9681\n",
            "Epoch 88/100\n",
            "27/27 [==============================] - 0s 3ms/step - loss: 2.3355 - r_square: 0.9724\n",
            "Epoch 89/100\n",
            "27/27 [==============================] - 0s 3ms/step - loss: 2.4317 - r_square: 0.9713\n",
            "Epoch 90/100\n",
            "27/27 [==============================] - 0s 3ms/step - loss: 2.1479 - r_square: 0.9746\n",
            "Epoch 91/100\n",
            "27/27 [==============================] - 0s 3ms/step - loss: 2.9874 - r_square: 0.9647\n",
            "Epoch 92/100\n",
            "27/27 [==============================] - 0s 3ms/step - loss: 2.9202 - r_square: 0.9655\n",
            "Epoch 93/100\n",
            "27/27 [==============================] - 0s 3ms/step - loss: 2.1864 - r_square: 0.9742\n",
            "Epoch 94/100\n",
            "27/27 [==============================] - 0s 3ms/step - loss: 2.2108 - r_square: 0.9739\n",
            "Epoch 95/100\n",
            "27/27 [==============================] - 0s 3ms/step - loss: 3.2288 - r_square: 0.9618\n",
            "Epoch 96/100\n",
            "27/27 [==============================] - 0s 3ms/step - loss: 2.6148 - r_square: 0.9691\n",
            "Epoch 97/100\n",
            "27/27 [==============================] - 0s 3ms/step - loss: 1.9920 - r_square: 0.9765\n",
            "Epoch 98/100\n",
            "27/27 [==============================] - 0s 3ms/step - loss: 1.9257 - r_square: 0.9772\n",
            "Epoch 99/100\n",
            "27/27 [==============================] - 0s 3ms/step - loss: 2.4850 - r_square: 0.9706\n",
            "Epoch 100/100\n",
            "27/27 [==============================] - 0s 3ms/step - loss: 2.1837 - r_square: 0.9742\n",
            "------------------------------------------------------------------------------------------------------------------------\n",
            "4/4 [==============================] - 0s 4ms/step - loss: 16.3366 - r_square: 0.8038\n",
            "MSE: 16.336565017700195\n",
            "r2: 0.8037504553794861\n"
          ]
        }
      ]
    },
    {
      "cell_type": "markdown",
      "metadata": {
        "id": "R7WVqBhjfwGW"
      },
      "source": [
        "# In Class Exercise #2\n",
        "What parameters from the models above do you think you can/should change? \n",
        "\n",
        "\n",
        "Try these\n",
        "- Change the number of neruons in each layer.  \n",
        "- Add a layer to the model.\n",
        "- Change the activation function of the model, [here is the documentation](https://keras.io/api/layers/activations/)\n",
        "- Change the optimizer, [here is the documentation](https://keras.io/api/optimizers/) with a list of options\n",
        "- look at the [metrics](https://keras.io/api/metrics/) try adding another metric.\n"
      ]
    },
    {
      "cell_type": "code",
      "source": [
        "n_features = X_train.shape[1] # get the number of input values for the input layer\n",
        "\n",
        "model = Sequential(name='boston_housing1')   #initialize the model\n",
        "\n",
        "#add some layers. Dense is a fully connected layer\n",
        "model.add(layers.Dense(64, input_dim= n_features, activation='relu'))\n",
        "model.add(layers.Dense(64, activation='relu'))\n",
        "model.add(layers.Dense(64, activation='sigmoid'))\n",
        "\n",
        "#Since we are doing a regressions, we only want one value as an ouput, so our last layer has a Dense layer with 1 neuron.\n",
        "model.add(layers.Dense(1)) #default activation function is \"linear\"\n",
        "\n",
        "from sklearn.metrics import r2_score\n",
        "# Compile model\n",
        "model.compile(loss='mean_squared_error',\n",
        "              optimizer='sgd', \n",
        "              metrics= RSquare())\n",
        "model.summary()"
      ],
      "metadata": {
        "id": "DScolIALIp3D",
        "outputId": "7bf3f511-8320-4f68-950b-adc318c656cd",
        "colab": {
          "base_uri": "https://localhost:8080/"
        }
      },
      "execution_count": 40,
      "outputs": [
        {
          "output_type": "stream",
          "name": "stdout",
          "text": [
            "Model: \"boston_housing1\"\n",
            "_________________________________________________________________\n",
            " Layer (type)                Output Shape              Param #   \n",
            "=================================================================\n",
            " dense_57 (Dense)            (None, 64)                896       \n",
            "                                                                 \n",
            " dense_58 (Dense)            (None, 64)                4160      \n",
            "                                                                 \n",
            " dense_59 (Dense)            (None, 64)                4160      \n",
            "                                                                 \n",
            " dense_60 (Dense)            (None, 1)                 65        \n",
            "                                                                 \n",
            "=================================================================\n",
            "Total params: 9,281\n",
            "Trainable params: 9,281\n",
            "Non-trainable params: 0\n",
            "_________________________________________________________________\n"
          ]
        }
      ]
    },
    {
      "cell_type": "code",
      "source": [
        "model.fit(X_train_norm, Y_train, epochs=10, batch_size=15, verbose=1)\n",
        "\n",
        "print(\"----\"*30)\n",
        "\n",
        "# cross-validation; make predictions and get error\n",
        "test_mse_score, test_r2_score = model.evaluate(X_test_norm, Y_test)\n",
        "print('MSE:', test_mse_score)\n",
        "print('r2:', test_r2_score)"
      ],
      "metadata": {
        "id": "jqfhnEN4IkY_",
        "outputId": "d2ae8d2a-e345-413e-c317-566bf0366808",
        "colab": {
          "base_uri": "https://localhost:8080/"
        }
      },
      "execution_count": 41,
      "outputs": [
        {
          "output_type": "stream",
          "name": "stdout",
          "text": [
            "Epoch 1/10\n",
            "27/27 [==============================] - 0s 3ms/step - loss: 80.7890 - r_square: 0.0453\n",
            "Epoch 2/10\n",
            "27/27 [==============================] - 0s 3ms/step - loss: 21.9155 - r_square: 0.7410\n",
            "Epoch 3/10\n",
            "27/27 [==============================] - 0s 3ms/step - loss: 16.4284 - r_square: 0.8059\n",
            "Epoch 4/10\n",
            "27/27 [==============================] - 0s 3ms/step - loss: 13.6637 - r_square: 0.8385\n",
            "Epoch 5/10\n",
            "27/27 [==============================] - 0s 3ms/step - loss: 15.1903 - r_square: 0.8205\n",
            "Epoch 6/10\n",
            "27/27 [==============================] - 0s 3ms/step - loss: 13.3400 - r_square: 0.8424\n",
            "Epoch 7/10\n",
            "27/27 [==============================] - 0s 3ms/step - loss: 12.3421 - r_square: 0.8542\n",
            "Epoch 8/10\n",
            "27/27 [==============================] - 0s 3ms/step - loss: 9.3261 - r_square: 0.8898\n",
            "Epoch 9/10\n",
            "27/27 [==============================] - 0s 3ms/step - loss: 9.7155 - r_square: 0.8852\n",
            "Epoch 10/10\n",
            "27/27 [==============================] - 0s 3ms/step - loss: 9.2360 - r_square: 0.8909\n",
            "------------------------------------------------------------------------------------------------------------------------\n",
            "4/4 [==============================] - 0s 4ms/step - loss: 19.9081 - r_square: 0.7608\n",
            "MSE: 19.908056259155273\n",
            "r2: 0.7608464956283569\n"
          ]
        }
      ]
    }
  ]
}